{
 "cells": [
  {
   "cell_type": "markdown",
   "id": "6a80b123",
   "metadata": {
    "vscode": {
     "languageId": "plaintext"
    }
   },
   "source": [
    "# 02_preprocessing"
   ]
  },
  {
   "cell_type": "markdown",
   "id": "c1293a53",
   "metadata": {},
   "source": [
    "## Importando bibliotecas"
   ]
  },
  {
   "cell_type": "code",
   "execution_count": 1,
   "id": "929c5c52",
   "metadata": {},
   "outputs": [],
   "source": [
    "import pandas as pd\n",
    "from sklearn.preprocessing import LabelEncoder"
   ]
  },
  {
   "cell_type": "markdown",
   "id": "91108c70",
   "metadata": {},
   "source": [
    "## Carregando os dados"
   ]
  },
  {
   "cell_type": "code",
   "execution_count": 2,
   "id": "25705016",
   "metadata": {},
   "outputs": [
    {
     "name": "stderr",
     "output_type": "stream",
     "text": [
      "C:\\Users\\heitor\\AppData\\Local\\Temp\\ipykernel_16920\\42816261.py:2: DtypeWarning: Columns (7) have mixed types. Specify dtype option on import or set low_memory=False.\n",
      "  df = pd.read_csv('../data/raw/train.csv', parse_dates=['Date'])\n"
     ]
    }
   ],
   "source": [
    "# Dados\n",
    "df = pd.read_csv('../data/raw/train.csv', parse_dates=['Date'])\n",
    "df = df[df['Open'] == 1]  # Remover dias fechados"
   ]
  },
  {
   "cell_type": "markdown",
   "id": "9ecd322f",
   "metadata": {},
   "source": [
    "## Processamento"
   ]
  },
  {
   "cell_type": "code",
   "execution_count": 3,
   "id": "ff75b37a",
   "metadata": {},
   "outputs": [],
   "source": [
    "# Foco em uma loja\n",
    "store_df = df[df['Store'] == 1].copy()"
   ]
  },
  {
   "cell_type": "code",
   "execution_count": 4,
   "id": "ad82ab3b",
   "metadata": {},
   "outputs": [],
   "source": [
    "# Features temporais\n",
    "store_df['Day'] = store_df['Date'].dt.day\n",
    "store_df['Week'] = store_df['Date'].dt.isocalendar().week\n",
    "store_df['Month'] = store_df['Date'].dt.month\n",
    "store_df['Year'] = store_df['Date'].dt.year\n",
    "store_df['DayOfWeek'] = store_df['Date'].dt.dayofweek"
   ]
  },
  {
   "cell_type": "code",
   "execution_count": 5,
   "id": "add86716",
   "metadata": {},
   "outputs": [],
   "source": [
    "# Codificando variáveis categóricas\n",
    "le = LabelEncoder()\n",
    "store_df['StateHoliday'] = le.fit_transform(store_df['StateHoliday'].astype(str))"
   ]
  },
  {
   "cell_type": "code",
   "execution_count": 6,
   "id": "2e899805",
   "metadata": {},
   "outputs": [
    {
     "data": {
      "application/vnd.microsoft.datawrangler.viewer.v0+json": {
       "columns": [
        {
         "name": "index",
         "rawType": "int64",
         "type": "integer"
        },
        {
         "name": "Store",
         "rawType": "int64",
         "type": "integer"
        },
        {
         "name": "DayOfWeek",
         "rawType": "int32",
         "type": "integer"
        },
        {
         "name": "Date",
         "rawType": "datetime64[ns]",
         "type": "datetime"
        },
        {
         "name": "Sales",
         "rawType": "int64",
         "type": "integer"
        },
        {
         "name": "Customers",
         "rawType": "int64",
         "type": "integer"
        },
        {
         "name": "Open",
         "rawType": "int64",
         "type": "integer"
        },
        {
         "name": "Promo",
         "rawType": "int64",
         "type": "integer"
        },
        {
         "name": "StateHoliday",
         "rawType": "int64",
         "type": "integer"
        },
        {
         "name": "SchoolHoliday",
         "rawType": "int64",
         "type": "integer"
        },
        {
         "name": "Day",
         "rawType": "int32",
         "type": "integer"
        },
        {
         "name": "Week",
         "rawType": "UInt32",
         "type": "integer"
        },
        {
         "name": "Month",
         "rawType": "int32",
         "type": "integer"
        },
        {
         "name": "Year",
         "rawType": "int32",
         "type": "integer"
        }
       ],
       "ref": "24218c33-97b0-42e0-905f-8287c1563d87",
       "rows": [
        [
         "0",
         "1",
         "4",
         "2015-07-31 00:00:00",
         "5263",
         "555",
         "1",
         "1",
         "0",
         "1",
         "31",
         "31",
         "7",
         "2015"
        ],
        [
         "1115",
         "1",
         "3",
         "2015-07-30 00:00:00",
         "5020",
         "546",
         "1",
         "1",
         "0",
         "1",
         "30",
         "31",
         "7",
         "2015"
        ],
        [
         "2230",
         "1",
         "2",
         "2015-07-29 00:00:00",
         "4782",
         "523",
         "1",
         "1",
         "0",
         "1",
         "29",
         "31",
         "7",
         "2015"
        ],
        [
         "3345",
         "1",
         "1",
         "2015-07-28 00:00:00",
         "5011",
         "560",
         "1",
         "1",
         "0",
         "1",
         "28",
         "31",
         "7",
         "2015"
        ],
        [
         "4460",
         "1",
         "0",
         "2015-07-27 00:00:00",
         "6102",
         "612",
         "1",
         "1",
         "0",
         "1",
         "27",
         "31",
         "7",
         "2015"
        ]
       ],
       "shape": {
        "columns": 13,
        "rows": 5
       }
      },
      "text/html": [
       "<div>\n",
       "<style scoped>\n",
       "    .dataframe tbody tr th:only-of-type {\n",
       "        vertical-align: middle;\n",
       "    }\n",
       "\n",
       "    .dataframe tbody tr th {\n",
       "        vertical-align: top;\n",
       "    }\n",
       "\n",
       "    .dataframe thead th {\n",
       "        text-align: right;\n",
       "    }\n",
       "</style>\n",
       "<table border=\"1\" class=\"dataframe\">\n",
       "  <thead>\n",
       "    <tr style=\"text-align: right;\">\n",
       "      <th></th>\n",
       "      <th>Store</th>\n",
       "      <th>DayOfWeek</th>\n",
       "      <th>Date</th>\n",
       "      <th>Sales</th>\n",
       "      <th>Customers</th>\n",
       "      <th>Open</th>\n",
       "      <th>Promo</th>\n",
       "      <th>StateHoliday</th>\n",
       "      <th>SchoolHoliday</th>\n",
       "      <th>Day</th>\n",
       "      <th>Week</th>\n",
       "      <th>Month</th>\n",
       "      <th>Year</th>\n",
       "    </tr>\n",
       "  </thead>\n",
       "  <tbody>\n",
       "    <tr>\n",
       "      <th>0</th>\n",
       "      <td>1</td>\n",
       "      <td>4</td>\n",
       "      <td>2015-07-31</td>\n",
       "      <td>5263</td>\n",
       "      <td>555</td>\n",
       "      <td>1</td>\n",
       "      <td>1</td>\n",
       "      <td>0</td>\n",
       "      <td>1</td>\n",
       "      <td>31</td>\n",
       "      <td>31</td>\n",
       "      <td>7</td>\n",
       "      <td>2015</td>\n",
       "    </tr>\n",
       "    <tr>\n",
       "      <th>1115</th>\n",
       "      <td>1</td>\n",
       "      <td>3</td>\n",
       "      <td>2015-07-30</td>\n",
       "      <td>5020</td>\n",
       "      <td>546</td>\n",
       "      <td>1</td>\n",
       "      <td>1</td>\n",
       "      <td>0</td>\n",
       "      <td>1</td>\n",
       "      <td>30</td>\n",
       "      <td>31</td>\n",
       "      <td>7</td>\n",
       "      <td>2015</td>\n",
       "    </tr>\n",
       "    <tr>\n",
       "      <th>2230</th>\n",
       "      <td>1</td>\n",
       "      <td>2</td>\n",
       "      <td>2015-07-29</td>\n",
       "      <td>4782</td>\n",
       "      <td>523</td>\n",
       "      <td>1</td>\n",
       "      <td>1</td>\n",
       "      <td>0</td>\n",
       "      <td>1</td>\n",
       "      <td>29</td>\n",
       "      <td>31</td>\n",
       "      <td>7</td>\n",
       "      <td>2015</td>\n",
       "    </tr>\n",
       "    <tr>\n",
       "      <th>3345</th>\n",
       "      <td>1</td>\n",
       "      <td>1</td>\n",
       "      <td>2015-07-28</td>\n",
       "      <td>5011</td>\n",
       "      <td>560</td>\n",
       "      <td>1</td>\n",
       "      <td>1</td>\n",
       "      <td>0</td>\n",
       "      <td>1</td>\n",
       "      <td>28</td>\n",
       "      <td>31</td>\n",
       "      <td>7</td>\n",
       "      <td>2015</td>\n",
       "    </tr>\n",
       "    <tr>\n",
       "      <th>4460</th>\n",
       "      <td>1</td>\n",
       "      <td>0</td>\n",
       "      <td>2015-07-27</td>\n",
       "      <td>6102</td>\n",
       "      <td>612</td>\n",
       "      <td>1</td>\n",
       "      <td>1</td>\n",
       "      <td>0</td>\n",
       "      <td>1</td>\n",
       "      <td>27</td>\n",
       "      <td>31</td>\n",
       "      <td>7</td>\n",
       "      <td>2015</td>\n",
       "    </tr>\n",
       "  </tbody>\n",
       "</table>\n",
       "</div>"
      ],
      "text/plain": [
       "      Store  DayOfWeek       Date  Sales  Customers  Open  Promo  \\\n",
       "0         1          4 2015-07-31   5263        555     1      1   \n",
       "1115      1          3 2015-07-30   5020        546     1      1   \n",
       "2230      1          2 2015-07-29   4782        523     1      1   \n",
       "3345      1          1 2015-07-28   5011        560     1      1   \n",
       "4460      1          0 2015-07-27   6102        612     1      1   \n",
       "\n",
       "      StateHoliday  SchoolHoliday  Day  Week  Month  Year  \n",
       "0                0              1   31    31      7  2015  \n",
       "1115             0              1   30    31      7  2015  \n",
       "2230             0              1   29    31      7  2015  \n",
       "3345             0              1   28    31      7  2015  \n",
       "4460             0              1   27    31      7  2015  "
      ]
     },
     "execution_count": 6,
     "metadata": {},
     "output_type": "execute_result"
    }
   ],
   "source": [
    "# Salvando versão tratada\n",
    "store_df.to_csv('../data/processed/store_1_prepared.csv', index=False)\n",
    "store_df.head()"
   ]
  },
  {
   "cell_type": "code",
   "execution_count": null,
   "id": "450282a3",
   "metadata": {},
   "outputs": [],
   "source": []
  }
 ],
 "metadata": {
  "kernelspec": {
   "display_name": "cases_data_science",
   "language": "python",
   "name": "python3"
  },
  "language_info": {
   "codemirror_mode": {
    "name": "ipython",
    "version": 3
   },
   "file_extension": ".py",
   "mimetype": "text/x-python",
   "name": "python",
   "nbconvert_exporter": "python",
   "pygments_lexer": "ipython3",
   "version": "3.10.18"
  }
 },
 "nbformat": 4,
 "nbformat_minor": 5
}
