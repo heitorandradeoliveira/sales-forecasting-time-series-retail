{
 "cells": [
  {
   "cell_type": "markdown",
   "id": "774d0acc",
   "metadata": {
    "vscode": {
     "languageId": "plaintext"
    }
   },
   "source": [
    "# 04_forecast"
   ]
  },
  {
   "cell_type": "markdown",
   "id": "8462d5c7",
   "metadata": {
    "vscode": {
     "languageId": "plaintext"
    }
   },
   "source": [
    "## Importando bibliotecas"
   ]
  },
  {
   "cell_type": "code",
   "execution_count": 1,
   "id": "4fa2369d",
   "metadata": {},
   "outputs": [],
   "source": [
    "import matplotlib.pyplot as plt\n",
    "from sklearn.metrics import mean_squared_error, mean_absolute_percentage_error, mean_absolute_error\n",
    "import numpy as np\n",
    "import pandas as pd\n",
    "\n",
    "import plotly.graph_objects as go\n"
   ]
  },
  {
   "cell_type": "markdown",
   "id": "4e2b9b23",
   "metadata": {
    "vscode": {
     "languageId": "plaintext"
    }
   },
   "source": [
    "## Carregando os dados"
   ]
  },
  {
   "cell_type": "code",
   "execution_count": 2,
   "id": "6ce783c1",
   "metadata": {},
   "outputs": [],
   "source": [
    "# Dados\n",
    "df = pd.read_csv('../data/processed/store_1_prepared.csv', parse_dates=['Date'])"
   ]
  },
  {
   "cell_type": "markdown",
   "id": "e2d5151d",
   "metadata": {
    "vscode": {
     "languageId": "plaintext"
    }
   },
   "source": [
    "## Modelagem"
   ]
  },
  {
   "cell_type": "code",
   "execution_count": 3,
   "id": "d9b6542a",
   "metadata": {},
   "outputs": [
    {
     "data": {
      "application/vnd.microsoft.datawrangler.viewer.v0+json": {
       "columns": [
        {
         "name": "index",
         "rawType": "int64",
         "type": "integer"
        },
        {
         "name": "ds",
         "rawType": "datetime64[ns]",
         "type": "datetime"
        },
        {
         "name": "trend",
         "rawType": "float64",
         "type": "float"
        },
        {
         "name": "yhat_lower",
         "rawType": "float64",
         "type": "float"
        },
        {
         "name": "yhat_upper",
         "rawType": "float64",
         "type": "float"
        },
        {
         "name": "trend_lower",
         "rawType": "float64",
         "type": "float"
        },
        {
         "name": "trend_upper",
         "rawType": "float64",
         "type": "float"
        },
        {
         "name": "additive_terms",
         "rawType": "float64",
         "type": "float"
        },
        {
         "name": "additive_terms_lower",
         "rawType": "float64",
         "type": "float"
        },
        {
         "name": "additive_terms_upper",
         "rawType": "float64",
         "type": "float"
        },
        {
         "name": "weekly",
         "rawType": "float64",
         "type": "float"
        },
        {
         "name": "weekly_lower",
         "rawType": "float64",
         "type": "float"
        },
        {
         "name": "weekly_upper",
         "rawType": "float64",
         "type": "float"
        },
        {
         "name": "yearly",
         "rawType": "float64",
         "type": "float"
        },
        {
         "name": "yearly_lower",
         "rawType": "float64",
         "type": "float"
        },
        {
         "name": "yearly_upper",
         "rawType": "float64",
         "type": "float"
        },
        {
         "name": "multiplicative_terms",
         "rawType": "float64",
         "type": "float"
        },
        {
         "name": "multiplicative_terms_lower",
         "rawType": "float64",
         "type": "float"
        },
        {
         "name": "multiplicative_terms_upper",
         "rawType": "float64",
         "type": "float"
        },
        {
         "name": "yhat",
         "rawType": "float64",
         "type": "float"
        }
       ],
       "ref": "2dfcd944-53e5-4f95-b90c-4cbe7eb228dc",
       "rows": [
        [
         "0",
         "2013-01-02 00:00:00",
         "5233.606535999999",
         "4511.082282173368",
         "6631.088825507943",
         "5233.606535999999",
         "5233.606535999999",
         "326.9156867971407",
         "326.9156867971407",
         "326.9156867971407",
         "-219.6477234524072",
         "-219.6477234524072",
         "-219.6477234524072",
         "546.5634102495479",
         "546.5634102495479",
         "546.5634102495479",
         "0.0",
         "0.0",
         "0.0",
         "5560.52222279714"
        ],
        [
         "1",
         "2013-01-03 00:00:00",
         "5232.197932697872",
         "4342.593154508393",
         "6397.360375702004",
         "5232.197932697872",
         "5232.197932697872",
         "108.92455549038644",
         "108.92455549038644",
         "108.92455549038644",
         "-309.0896539201705",
         "-309.0896539201705",
         "-309.0896539201705",
         "418.014209410557",
         "418.014209410557",
         "418.014209410557",
         "0.0",
         "0.0",
         "0.0",
         "5341.122488188258"
        ],
        [
         "2",
         "2013-01-04 00:00:00",
         "5230.789329395744",
         "4452.131253497135",
         "6600.451752384561",
         "5230.789329395744",
         "5230.789329395744",
         "240.49481270437624",
         "240.49481270437624",
         "240.49481270437624",
         "-54.52853757910747",
         "-54.52853757910747",
         "-54.52853757910747",
         "295.0233502834837",
         "295.0233502834837",
         "295.0233502834837",
         "0.0",
         "0.0",
         "0.0",
         "5471.28414210012"
        ],
        [
         "3",
         "2013-01-05 00:00:00",
         "5229.380726093616",
         "4472.450828086036",
         "6656.096005212073",
         "5229.380726093616",
         "5229.380726093616",
         "329.71849345626754",
         "329.71849345626754",
         "329.71849345626754",
         "150.70330538342458",
         "150.70330538342458",
         "150.70330538342458",
         "179.01518807284305",
         "179.01518807284305",
         "179.01518807284305",
         "0.0",
         "0.0",
         "0.0",
         "5559.099219549884"
        ],
        [
         "4",
         "2013-01-07 00:00:00",
         "5226.563519489361",
         "4443.615688740759",
         "6669.370062980756",
         "5226.563519489361",
         "5226.563519489361",
         "360.76071612998527",
         "360.76071612998527",
         "360.76071612998527",
         "387.9290558727229",
         "387.9290558727229",
         "387.9290558727229",
         "-27.16833974273769",
         "-27.16833974273769",
         "-27.16833974273769",
         "0.0",
         "0.0",
         "0.0",
         "5587.324235619347"
        ]
       ],
       "shape": {
        "columns": 19,
        "rows": 5
       }
      },
      "text/html": [
       "<div>\n",
       "<style scoped>\n",
       "    .dataframe tbody tr th:only-of-type {\n",
       "        vertical-align: middle;\n",
       "    }\n",
       "\n",
       "    .dataframe tbody tr th {\n",
       "        vertical-align: top;\n",
       "    }\n",
       "\n",
       "    .dataframe thead th {\n",
       "        text-align: right;\n",
       "    }\n",
       "</style>\n",
       "<table border=\"1\" class=\"dataframe\">\n",
       "  <thead>\n",
       "    <tr style=\"text-align: right;\">\n",
       "      <th></th>\n",
       "      <th>ds</th>\n",
       "      <th>trend</th>\n",
       "      <th>yhat_lower</th>\n",
       "      <th>yhat_upper</th>\n",
       "      <th>trend_lower</th>\n",
       "      <th>trend_upper</th>\n",
       "      <th>additive_terms</th>\n",
       "      <th>additive_terms_lower</th>\n",
       "      <th>additive_terms_upper</th>\n",
       "      <th>weekly</th>\n",
       "      <th>weekly_lower</th>\n",
       "      <th>weekly_upper</th>\n",
       "      <th>yearly</th>\n",
       "      <th>yearly_lower</th>\n",
       "      <th>yearly_upper</th>\n",
       "      <th>multiplicative_terms</th>\n",
       "      <th>multiplicative_terms_lower</th>\n",
       "      <th>multiplicative_terms_upper</th>\n",
       "      <th>yhat</th>\n",
       "    </tr>\n",
       "  </thead>\n",
       "  <tbody>\n",
       "    <tr>\n",
       "      <th>0</th>\n",
       "      <td>2013-01-02</td>\n",
       "      <td>5233.606536</td>\n",
       "      <td>4511.082282</td>\n",
       "      <td>6631.088826</td>\n",
       "      <td>5233.606536</td>\n",
       "      <td>5233.606536</td>\n",
       "      <td>326.915687</td>\n",
       "      <td>326.915687</td>\n",
       "      <td>326.915687</td>\n",
       "      <td>-219.647723</td>\n",
       "      <td>-219.647723</td>\n",
       "      <td>-219.647723</td>\n",
       "      <td>546.563410</td>\n",
       "      <td>546.563410</td>\n",
       "      <td>546.563410</td>\n",
       "      <td>0.0</td>\n",
       "      <td>0.0</td>\n",
       "      <td>0.0</td>\n",
       "      <td>5560.522223</td>\n",
       "    </tr>\n",
       "    <tr>\n",
       "      <th>1</th>\n",
       "      <td>2013-01-03</td>\n",
       "      <td>5232.197933</td>\n",
       "      <td>4342.593155</td>\n",
       "      <td>6397.360376</td>\n",
       "      <td>5232.197933</td>\n",
       "      <td>5232.197933</td>\n",
       "      <td>108.924555</td>\n",
       "      <td>108.924555</td>\n",
       "      <td>108.924555</td>\n",
       "      <td>-309.089654</td>\n",
       "      <td>-309.089654</td>\n",
       "      <td>-309.089654</td>\n",
       "      <td>418.014209</td>\n",
       "      <td>418.014209</td>\n",
       "      <td>418.014209</td>\n",
       "      <td>0.0</td>\n",
       "      <td>0.0</td>\n",
       "      <td>0.0</td>\n",
       "      <td>5341.122488</td>\n",
       "    </tr>\n",
       "    <tr>\n",
       "      <th>2</th>\n",
       "      <td>2013-01-04</td>\n",
       "      <td>5230.789329</td>\n",
       "      <td>4452.131253</td>\n",
       "      <td>6600.451752</td>\n",
       "      <td>5230.789329</td>\n",
       "      <td>5230.789329</td>\n",
       "      <td>240.494813</td>\n",
       "      <td>240.494813</td>\n",
       "      <td>240.494813</td>\n",
       "      <td>-54.528538</td>\n",
       "      <td>-54.528538</td>\n",
       "      <td>-54.528538</td>\n",
       "      <td>295.023350</td>\n",
       "      <td>295.023350</td>\n",
       "      <td>295.023350</td>\n",
       "      <td>0.0</td>\n",
       "      <td>0.0</td>\n",
       "      <td>0.0</td>\n",
       "      <td>5471.284142</td>\n",
       "    </tr>\n",
       "    <tr>\n",
       "      <th>3</th>\n",
       "      <td>2013-01-05</td>\n",
       "      <td>5229.380726</td>\n",
       "      <td>4472.450828</td>\n",
       "      <td>6656.096005</td>\n",
       "      <td>5229.380726</td>\n",
       "      <td>5229.380726</td>\n",
       "      <td>329.718493</td>\n",
       "      <td>329.718493</td>\n",
       "      <td>329.718493</td>\n",
       "      <td>150.703305</td>\n",
       "      <td>150.703305</td>\n",
       "      <td>150.703305</td>\n",
       "      <td>179.015188</td>\n",
       "      <td>179.015188</td>\n",
       "      <td>179.015188</td>\n",
       "      <td>0.0</td>\n",
       "      <td>0.0</td>\n",
       "      <td>0.0</td>\n",
       "      <td>5559.099220</td>\n",
       "    </tr>\n",
       "    <tr>\n",
       "      <th>4</th>\n",
       "      <td>2013-01-07</td>\n",
       "      <td>5226.563519</td>\n",
       "      <td>4443.615689</td>\n",
       "      <td>6669.370063</td>\n",
       "      <td>5226.563519</td>\n",
       "      <td>5226.563519</td>\n",
       "      <td>360.760716</td>\n",
       "      <td>360.760716</td>\n",
       "      <td>360.760716</td>\n",
       "      <td>387.929056</td>\n",
       "      <td>387.929056</td>\n",
       "      <td>387.929056</td>\n",
       "      <td>-27.168340</td>\n",
       "      <td>-27.168340</td>\n",
       "      <td>-27.168340</td>\n",
       "      <td>0.0</td>\n",
       "      <td>0.0</td>\n",
       "      <td>0.0</td>\n",
       "      <td>5587.324236</td>\n",
       "    </tr>\n",
       "  </tbody>\n",
       "</table>\n",
       "</div>"
      ],
      "text/plain": [
       "          ds        trend   yhat_lower   yhat_upper  trend_lower  trend_upper  \\\n",
       "0 2013-01-02  5233.606536  4511.082282  6631.088826  5233.606536  5233.606536   \n",
       "1 2013-01-03  5232.197933  4342.593155  6397.360376  5232.197933  5232.197933   \n",
       "2 2013-01-04  5230.789329  4452.131253  6600.451752  5230.789329  5230.789329   \n",
       "3 2013-01-05  5229.380726  4472.450828  6656.096005  5229.380726  5229.380726   \n",
       "4 2013-01-07  5226.563519  4443.615689  6669.370063  5226.563519  5226.563519   \n",
       "\n",
       "   additive_terms  additive_terms_lower  additive_terms_upper      weekly  \\\n",
       "0      326.915687            326.915687            326.915687 -219.647723   \n",
       "1      108.924555            108.924555            108.924555 -309.089654   \n",
       "2      240.494813            240.494813            240.494813  -54.528538   \n",
       "3      329.718493            329.718493            329.718493  150.703305   \n",
       "4      360.760716            360.760716            360.760716  387.929056   \n",
       "\n",
       "   weekly_lower  weekly_upper      yearly  yearly_lower  yearly_upper  \\\n",
       "0   -219.647723   -219.647723  546.563410    546.563410    546.563410   \n",
       "1   -309.089654   -309.089654  418.014209    418.014209    418.014209   \n",
       "2    -54.528538    -54.528538  295.023350    295.023350    295.023350   \n",
       "3    150.703305    150.703305  179.015188    179.015188    179.015188   \n",
       "4    387.929056    387.929056  -27.168340    -27.168340    -27.168340   \n",
       "\n",
       "   multiplicative_terms  multiplicative_terms_lower  \\\n",
       "0                   0.0                         0.0   \n",
       "1                   0.0                         0.0   \n",
       "2                   0.0                         0.0   \n",
       "3                   0.0                         0.0   \n",
       "4                   0.0                         0.0   \n",
       "\n",
       "   multiplicative_terms_upper         yhat  \n",
       "0                         0.0  5560.522223  \n",
       "1                         0.0  5341.122488  \n",
       "2                         0.0  5471.284142  \n",
       "3                         0.0  5559.099220  \n",
       "4                         0.0  5587.324236  "
      ]
     },
     "metadata": {},
     "output_type": "display_data"
    },
    {
     "data": {
      "text/plain": [
       "(811, 19)"
      ]
     },
     "metadata": {},
     "output_type": "display_data"
    }
   ],
   "source": [
    "# Previsões feitas\n",
    "forecast = pd.read_csv('../data/processed/forecast_prophet.csv', parse_dates=['ds'])  # ou reutilizar do notebook anterior\n",
    "display(forecast.head(), forecast.shape)\n",
    "forecast_predict = pd.read_csv('../data/processed/forecast_predict.csv', parse_dates=['ds'])  # ou reutilizar do notebook anterior"
   ]
  },
  {
   "cell_type": "code",
   "execution_count": 4,
   "id": "fd89d8d5",
   "metadata": {},
   "outputs": [
    {
     "data": {
      "application/vnd.microsoft.datawrangler.viewer.v0+json": {
       "columns": [
        {
         "name": "index",
         "rawType": "int64",
         "type": "integer"
        },
        {
         "name": "Store",
         "rawType": "int64",
         "type": "integer"
        },
        {
         "name": "DayOfWeek",
         "rawType": "int64",
         "type": "integer"
        },
        {
         "name": "Date",
         "rawType": "datetime64[ns]",
         "type": "datetime"
        },
        {
         "name": "Sales",
         "rawType": "int64",
         "type": "integer"
        },
        {
         "name": "Customers",
         "rawType": "int64",
         "type": "integer"
        },
        {
         "name": "Open",
         "rawType": "int64",
         "type": "integer"
        },
        {
         "name": "Promo",
         "rawType": "int64",
         "type": "integer"
        },
        {
         "name": "StateHoliday",
         "rawType": "int64",
         "type": "integer"
        },
        {
         "name": "SchoolHoliday",
         "rawType": "int64",
         "type": "integer"
        },
        {
         "name": "Day",
         "rawType": "int64",
         "type": "integer"
        },
        {
         "name": "Week",
         "rawType": "int64",
         "type": "integer"
        },
        {
         "name": "Month",
         "rawType": "int64",
         "type": "integer"
        },
        {
         "name": "Year",
         "rawType": "int64",
         "type": "integer"
        },
        {
         "name": "ds",
         "rawType": "datetime64[ns]",
         "type": "datetime"
        },
        {
         "name": "trend",
         "rawType": "float64",
         "type": "float"
        },
        {
         "name": "yhat_lower",
         "rawType": "float64",
         "type": "float"
        },
        {
         "name": "yhat_upper",
         "rawType": "float64",
         "type": "float"
        },
        {
         "name": "trend_lower",
         "rawType": "float64",
         "type": "float"
        },
        {
         "name": "trend_upper",
         "rawType": "float64",
         "type": "float"
        },
        {
         "name": "additive_terms",
         "rawType": "float64",
         "type": "float"
        },
        {
         "name": "additive_terms_lower",
         "rawType": "float64",
         "type": "float"
        },
        {
         "name": "additive_terms_upper",
         "rawType": "float64",
         "type": "float"
        },
        {
         "name": "weekly",
         "rawType": "float64",
         "type": "float"
        },
        {
         "name": "weekly_lower",
         "rawType": "float64",
         "type": "float"
        },
        {
         "name": "weekly_upper",
         "rawType": "float64",
         "type": "float"
        },
        {
         "name": "yearly",
         "rawType": "float64",
         "type": "float"
        },
        {
         "name": "yearly_lower",
         "rawType": "float64",
         "type": "float"
        },
        {
         "name": "yearly_upper",
         "rawType": "float64",
         "type": "float"
        },
        {
         "name": "multiplicative_terms",
         "rawType": "float64",
         "type": "float"
        },
        {
         "name": "multiplicative_terms_lower",
         "rawType": "float64",
         "type": "float"
        },
        {
         "name": "multiplicative_terms_upper",
         "rawType": "float64",
         "type": "float"
        },
        {
         "name": "yhat",
         "rawType": "float64",
         "type": "float"
        }
       ],
       "ref": "59b2d96e-3b51-4ef1-a563-dd5cad7b0c9b",
       "rows": [
        [
         "0",
         "1",
         "4",
         "2015-07-31 00:00:00",
         "5263",
         "555",
         "1",
         "1",
         "0",
         "1",
         "31",
         "31",
         "7",
         "2015",
         "2015-07-31 00:00:00",
         "4674.947643962159",
         "3340.402343719649",
         "5479.69115228734",
         "4674.947643962159",
         "4674.947643962159",
         "-288.91127082449594",
         "-288.91127082449594",
         "-288.91127082449594",
         "-54.52853757883455",
         "-54.52853757883455",
         "-54.52853757883455",
         "-234.38273324566143",
         "-234.38273324566143",
         "-234.38273324566143",
         "0.0",
         "0.0",
         "0.0",
         "4386.036373137663"
        ],
        [
         "1",
         "1",
         "3",
         "2015-07-30 00:00:00",
         "5020",
         "546",
         "1",
         "1",
         "0",
         "1",
         "30",
         "31",
         "7",
         "2015",
         "2015-07-30 00:00:00",
         "4675.046608564706",
         "3127.5499396124064",
         "5228.030433269226",
         "4675.046608564706",
         "4675.046608564706",
         "-516.0379565421186",
         "-516.0379565421186",
         "-516.0379565421186",
         "-309.089653920285",
         "-309.089653920285",
         "-309.089653920285",
         "-206.9483026218338",
         "-206.9483026218338",
         "-206.9483026218338",
         "0.0",
         "0.0",
         "0.0",
         "4159.008652022587"
        ],
        [
         "2",
         "1",
         "2",
         "2015-07-29 00:00:00",
         "4782",
         "523",
         "1",
         "1",
         "0",
         "1",
         "29",
         "31",
         "7",
         "2015",
         "2015-07-29 00:00:00",
         "4675.145573167252",
         "3252.3957254237807",
         "5434.1200838922405",
         "4675.145573167252",
         "4675.145573167252",
         "-400.7319157977236",
         "-400.7319157977236",
         "-400.7319157977236",
         "-219.64772345235085",
         "-219.64772345235085",
         "-219.64772345235085",
         "-181.0841923453728",
         "-181.0841923453728",
         "-181.0841923453728",
         "0.0",
         "0.0",
         "0.0",
         "4274.413657369529"
        ],
        [
         "3",
         "1",
         "1",
         "2015-07-28 00:00:00",
         "5011",
         "560",
         "1",
         "1",
         "0",
         "1",
         "28",
         "31",
         "7",
         "2015",
         "2015-07-28 00:00:00",
         "4675.2445377698",
         "3296.022908160844",
         "5505.903458965146",
         "4675.2445377698",
         "4675.2445377698",
         "-260.0370879355718",
         "-260.0370879355718",
         "-260.0370879355718",
         "-102.66875117138244",
         "-102.66875117138244",
         "-102.66875117138244",
         "-157.36833676418934",
         "-157.36833676418934",
         "-157.36833676418934",
         "0.0",
         "0.0",
         "0.0",
         "4415.207449834228"
        ],
        [
         "4",
         "1",
         "0",
         "2015-07-27 00:00:00",
         "6102",
         "612",
         "1",
         "1",
         "0",
         "1",
         "27",
         "31",
         "7",
         "2015",
         "2015-07-27 00:00:00",
         "4675.343502372348",
         "3757.7084815275457",
         "6023.973887404814",
         "4675.343502372348",
         "4675.343502372348",
         "251.5974510003468",
         "251.5974510003468",
         "251.5974510003468",
         "387.9290558730594",
         "387.9290558730594",
         "387.9290558730594",
         "-136.33160487271263",
         "-136.33160487271263",
         "-136.33160487271263",
         "0.0",
         "0.0",
         "0.0",
         "4926.940953372695"
        ]
       ],
       "shape": {
        "columns": 32,
        "rows": 5
       }
      },
      "text/html": [
       "<div>\n",
       "<style scoped>\n",
       "    .dataframe tbody tr th:only-of-type {\n",
       "        vertical-align: middle;\n",
       "    }\n",
       "\n",
       "    .dataframe tbody tr th {\n",
       "        vertical-align: top;\n",
       "    }\n",
       "\n",
       "    .dataframe thead th {\n",
       "        text-align: right;\n",
       "    }\n",
       "</style>\n",
       "<table border=\"1\" class=\"dataframe\">\n",
       "  <thead>\n",
       "    <tr style=\"text-align: right;\">\n",
       "      <th></th>\n",
       "      <th>Store</th>\n",
       "      <th>DayOfWeek</th>\n",
       "      <th>Date</th>\n",
       "      <th>Sales</th>\n",
       "      <th>Customers</th>\n",
       "      <th>Open</th>\n",
       "      <th>Promo</th>\n",
       "      <th>StateHoliday</th>\n",
       "      <th>SchoolHoliday</th>\n",
       "      <th>Day</th>\n",
       "      <th>...</th>\n",
       "      <th>weekly</th>\n",
       "      <th>weekly_lower</th>\n",
       "      <th>weekly_upper</th>\n",
       "      <th>yearly</th>\n",
       "      <th>yearly_lower</th>\n",
       "      <th>yearly_upper</th>\n",
       "      <th>multiplicative_terms</th>\n",
       "      <th>multiplicative_terms_lower</th>\n",
       "      <th>multiplicative_terms_upper</th>\n",
       "      <th>yhat</th>\n",
       "    </tr>\n",
       "  </thead>\n",
       "  <tbody>\n",
       "    <tr>\n",
       "      <th>0</th>\n",
       "      <td>1</td>\n",
       "      <td>4</td>\n",
       "      <td>2015-07-31</td>\n",
       "      <td>5263</td>\n",
       "      <td>555</td>\n",
       "      <td>1</td>\n",
       "      <td>1</td>\n",
       "      <td>0</td>\n",
       "      <td>1</td>\n",
       "      <td>31</td>\n",
       "      <td>...</td>\n",
       "      <td>-54.528538</td>\n",
       "      <td>-54.528538</td>\n",
       "      <td>-54.528538</td>\n",
       "      <td>-234.382733</td>\n",
       "      <td>-234.382733</td>\n",
       "      <td>-234.382733</td>\n",
       "      <td>0.0</td>\n",
       "      <td>0.0</td>\n",
       "      <td>0.0</td>\n",
       "      <td>4386.036373</td>\n",
       "    </tr>\n",
       "    <tr>\n",
       "      <th>1</th>\n",
       "      <td>1</td>\n",
       "      <td>3</td>\n",
       "      <td>2015-07-30</td>\n",
       "      <td>5020</td>\n",
       "      <td>546</td>\n",
       "      <td>1</td>\n",
       "      <td>1</td>\n",
       "      <td>0</td>\n",
       "      <td>1</td>\n",
       "      <td>30</td>\n",
       "      <td>...</td>\n",
       "      <td>-309.089654</td>\n",
       "      <td>-309.089654</td>\n",
       "      <td>-309.089654</td>\n",
       "      <td>-206.948303</td>\n",
       "      <td>-206.948303</td>\n",
       "      <td>-206.948303</td>\n",
       "      <td>0.0</td>\n",
       "      <td>0.0</td>\n",
       "      <td>0.0</td>\n",
       "      <td>4159.008652</td>\n",
       "    </tr>\n",
       "    <tr>\n",
       "      <th>2</th>\n",
       "      <td>1</td>\n",
       "      <td>2</td>\n",
       "      <td>2015-07-29</td>\n",
       "      <td>4782</td>\n",
       "      <td>523</td>\n",
       "      <td>1</td>\n",
       "      <td>1</td>\n",
       "      <td>0</td>\n",
       "      <td>1</td>\n",
       "      <td>29</td>\n",
       "      <td>...</td>\n",
       "      <td>-219.647723</td>\n",
       "      <td>-219.647723</td>\n",
       "      <td>-219.647723</td>\n",
       "      <td>-181.084192</td>\n",
       "      <td>-181.084192</td>\n",
       "      <td>-181.084192</td>\n",
       "      <td>0.0</td>\n",
       "      <td>0.0</td>\n",
       "      <td>0.0</td>\n",
       "      <td>4274.413657</td>\n",
       "    </tr>\n",
       "    <tr>\n",
       "      <th>3</th>\n",
       "      <td>1</td>\n",
       "      <td>1</td>\n",
       "      <td>2015-07-28</td>\n",
       "      <td>5011</td>\n",
       "      <td>560</td>\n",
       "      <td>1</td>\n",
       "      <td>1</td>\n",
       "      <td>0</td>\n",
       "      <td>1</td>\n",
       "      <td>28</td>\n",
       "      <td>...</td>\n",
       "      <td>-102.668751</td>\n",
       "      <td>-102.668751</td>\n",
       "      <td>-102.668751</td>\n",
       "      <td>-157.368337</td>\n",
       "      <td>-157.368337</td>\n",
       "      <td>-157.368337</td>\n",
       "      <td>0.0</td>\n",
       "      <td>0.0</td>\n",
       "      <td>0.0</td>\n",
       "      <td>4415.207450</td>\n",
       "    </tr>\n",
       "    <tr>\n",
       "      <th>4</th>\n",
       "      <td>1</td>\n",
       "      <td>0</td>\n",
       "      <td>2015-07-27</td>\n",
       "      <td>6102</td>\n",
       "      <td>612</td>\n",
       "      <td>1</td>\n",
       "      <td>1</td>\n",
       "      <td>0</td>\n",
       "      <td>1</td>\n",
       "      <td>27</td>\n",
       "      <td>...</td>\n",
       "      <td>387.929056</td>\n",
       "      <td>387.929056</td>\n",
       "      <td>387.929056</td>\n",
       "      <td>-136.331605</td>\n",
       "      <td>-136.331605</td>\n",
       "      <td>-136.331605</td>\n",
       "      <td>0.0</td>\n",
       "      <td>0.0</td>\n",
       "      <td>0.0</td>\n",
       "      <td>4926.940953</td>\n",
       "    </tr>\n",
       "  </tbody>\n",
       "</table>\n",
       "<p>5 rows × 32 columns</p>\n",
       "</div>"
      ],
      "text/plain": [
       "   Store  DayOfWeek       Date  Sales  Customers  Open  Promo  StateHoliday  \\\n",
       "0      1          4 2015-07-31   5263        555     1      1             0   \n",
       "1      1          3 2015-07-30   5020        546     1      1             0   \n",
       "2      1          2 2015-07-29   4782        523     1      1             0   \n",
       "3      1          1 2015-07-28   5011        560     1      1             0   \n",
       "4      1          0 2015-07-27   6102        612     1      1             0   \n",
       "\n",
       "   SchoolHoliday  Day  ...      weekly  weekly_lower  weekly_upper  \\\n",
       "0              1   31  ...  -54.528538    -54.528538    -54.528538   \n",
       "1              1   30  ... -309.089654   -309.089654   -309.089654   \n",
       "2              1   29  ... -219.647723   -219.647723   -219.647723   \n",
       "3              1   28  ... -102.668751   -102.668751   -102.668751   \n",
       "4              1   27  ...  387.929056    387.929056    387.929056   \n",
       "\n",
       "       yearly  yearly_lower  yearly_upper  multiplicative_terms  \\\n",
       "0 -234.382733   -234.382733   -234.382733                   0.0   \n",
       "1 -206.948303   -206.948303   -206.948303                   0.0   \n",
       "2 -181.084192   -181.084192   -181.084192                   0.0   \n",
       "3 -157.368337   -157.368337   -157.368337                   0.0   \n",
       "4 -136.331605   -136.331605   -136.331605                   0.0   \n",
       "\n",
       "   multiplicative_terms_lower  multiplicative_terms_upper         yhat  \n",
       "0                         0.0                         0.0  4386.036373  \n",
       "1                         0.0                         0.0  4159.008652  \n",
       "2                         0.0                         0.0  4274.413657  \n",
       "3                         0.0                         0.0  4415.207450  \n",
       "4                         0.0                         0.0  4926.940953  \n",
       "\n",
       "[5 rows x 32 columns]"
      ]
     },
     "metadata": {},
     "output_type": "display_data"
    },
    {
     "data": {
      "text/plain": [
       "(781, 32)"
      ]
     },
     "metadata": {},
     "output_type": "display_data"
    }
   ],
   "source": [
    "# Comparando previsões com dados reais\n",
    "merged = pd.merge(df, forecast, left_on='Date', right_on='ds', how='inner')\n",
    "display(merged.head(),merged.shape)"
   ]
  },
  {
   "cell_type": "code",
   "execution_count": 5,
   "id": "0ee499a0",
   "metadata": {},
   "outputs": [
    {
     "name": "stdout",
     "output_type": "stream",
     "text": [
      "📉 RMSE (Root Mean Squared Error) - Treino: 847.35\n",
      "📉 MAE  (Mean Absolute Error) - Treino: 683.85\n",
      "📉 MAPE (Mean Absolute Percentage Error) - Treino: 14.97%\n"
     ]
    }
   ],
   "source": [
    "# Avaliação do desempenho do modelo de previsão\n",
    "y_true_train = merged['Sales']\n",
    "y_pred_train = merged['yhat']\n",
    "\n",
    "rmse = np.sqrt(mean_squared_error(y_true_train, y_pred_train))\n",
    "mae = mean_absolute_error(y_true_train, y_pred_train)\n",
    "mape = mean_absolute_percentage_error(y_true_train, y_pred_train)\n",
    "\n",
    "print(f\"📉 RMSE (Root Mean Squared Error) - Treino: {rmse:.2f}\")\n",
    "print(f\"📉 MAE  (Mean Absolute Error) - Treino: {mae:.2f}\")\n",
    "print(f\"📉 MAPE (Mean Absolute Percentage Error) - Treino: {mape:.2%}\")"
   ]
  },
  {
   "cell_type": "code",
   "execution_count": 6,
   "id": "5b3aedb3",
   "metadata": {},
   "outputs": [
    {
     "data": {
      "image/png": "[encoded data removed]",
      "text/plain": [
       "<Figure size 1200x500 with 1 Axes>"
      ]
     },
     "metadata": {},
     "output_type": "display_data"
    }
   ],
   "source": [
    "# Gráfico real vs previsto\n",
    "plt.figure(figsize=(12, 5))\n",
    "plt.plot(merged['Date'], merged['Sales'], label='Real')\n",
    "plt.plot(merged['Date'], merged['yhat'], label='Previsto')\n",
    "plt.title('Previsão de Vendas - Loja 1')\n",
    "plt.legend()\n",
    "plt.grid()\n",
    "plt.show()"
   ]
  },
  {
   "cell_type": "code",
   "execution_count": 7,
   "id": "4fb6252f",
   "metadata": {},
   "outputs": [
    {
     "data": {
      "application/vnd.plotly.v1+json": {
       "config": {
        "plotlyServerURL": "https://plot.ly"
       },
       "data": [
        {
         "line": {
          "color": "blue"
         },
         "mode": "lines",
         "name": "Real",
         "type": "scatter",
         "x": [
          "2015-07-31T00:00:00",
          "2015-07-30T00:00:00",
          "2015-07-29T00:00:00",
          "2015-07-28T00:00:00",
          "2015-07-27T00:00:00",
          "2015-07-25T00:00:00",
          "2015-07-24T00:00:00",
          "2015-07-23T00:00:00",
          "2015-07-22T00:00:00",
          "2015-07-21T00:00:00",
          "2015-07-20T00:00:00",
          "2015-07-18T00:00:00",
          "2015-07-17T00:00:00",
          "2015-07-16T00:00:00",
          "2015-07-15T00:00:00",
          "2015-07-14T00:00:00",
          "2015-07-13T00:00:00",
          "2015-07-11T00:00:00",
          "2015-07-10T00:00:00",
          "2015-07-09T00:00:00",
          "2015-07-08T00:00:00",
          "2015-07-07T00:00:00",
          "2015-07-06T00:00:00",
          "2015-07-04T00:00:00",
          "2015-07-03T00:00:00",
          "2015-07-02T00:00:00",
          "2015-07-01T00:00:00",
          "2015-06-30T00:00:00",
          "2015-06-29T00:00:00",
          "2015-06-27T00:00:00",
          "2015-06-26T00:00:00",
          "2015-06-25T00:00:00",
          "2015-06-24T00:00:00",
          "2015-06-23T00:00:00",
          "2015-06-22T00:00:00",
          "2015-06-20T00:00:00",
          "2015-06-19T00:00:00",
          "2015-06-18T00:00:00",
          "2015-06-17T00:00:00",
          "2015-06-16T00:00:00",
          "2015-06-15T00:00:00",
          "2015-06-13T00:00:00",
          "2015-06-12T00:00:00",
          "2015-06-11T00:00:00",
          "2015-06-10T00:00:00",
          "2015-06-09T00:00:00",
          "2015-06-08T00:00:00",
          "2015-06-06T00:00:00",
          "2015-06-05T00:00:00",
          "2015-06-03T00:00:00",
          "2015-06-02T00:00:00",
          "2015-06-01T00:00:00",
          "2015-05-30T00:00:00",
          "2015-05-29T00:00:00",
          "2015-05-28T00:00:00",
          "2015-05-27T00:00:00",
          "2015-05-26T00:00:00",
          "2015-05-23T00:00:00",
          "2015-05-22T00:00:00",
          "2015-05-21T00:00:00",
          "2015-05-20T00:00:00",
          "2015-05-19T00:00:00",
          "2015-05-18T00:00:00",
          "2015-05-16T00:00:00",
          "2015-05-15T00:00:00",
          "2015-05-13T00:00:00",
          "2015-05-12T00:00:00",
          "2015-05-11T00:00:00",
          "2015-05-09T00:00:00",
          "2015-05-08T00:00:00",
          "2015-05-07T00:00:00",
          "2015-05-06T00:00:00",
          "2015-05-05T00:00:00",
          "2015-05-04T00:00:00",
          "2015-05-02T00:00:00",
          "2015-04-30T00:00:00",
          "2015-04-29T00:00:00",
          "2015-04-28T00:00:00",
          "2015-04-27T00:00:00",
          "2015-04-25T00:00:00",
          "2015-04-24T00:00:00",
          "2015-04-23T00:00:00",
          "2015-04-22T00:00:00",
          "2015-04-21T00:00:00",
          "2015-04-20T00:00:00",
          "2015-04-18T00:00:00",
          "2015-04-17T00:00:00",
          "2015-04-16T00:00:00",
          "2015-04-15T00:00:00",
          "2015-04-14T00:00:00",
          "2015-04-13T00:00:00",
          "2015-04-11T00:00:00",
          "2015-04-10T00:00:00",
          "2015-04-09T00:00:00",
          "2015-04-08T00:00:00",
          "2015-04-07T00:00:00",
          "2015-04-04T00:00:00",
          "2015-04-02T00:00:00",
          "2015-04-01T00:00:00",
          "2015-03-31T00:00:00",
          "2015-03-30T00:00:00",
          "2015-03-28T00:00:00",
          "2015-03-27T00:00:00",
          "2015-03-26T00:00:00",
          "2015-03-25T00:00:00",
          "2015-03-24T00:00:00",
          "2015-03-23T00:00:00",
          "2015-03-21T00:00:00",
          "2015-03-20T00:00:00",
          "2015-03-19T00:00:00",
          "2015-03-18T00:00:00",
          "2015-03-17T00:00:00",
          "2015-03-16T00:00:00",
          "2015-03-14T00:00:00",
          "2015-03-13T00:00:00",
          "2015-03-12T00:00:00",
          "2015-03-11T00:00:00",
          "2015-03-10T00:00:00",
          "2015-03-09T00:00:00",
          "2015-03-07T00:00:00",
          "2015-03-06T00:00:00",
          "2015-03-05T00:00:00",
          "2015-03-04T00:00:00",
          "2015-03-03T00:00:00",
          "2015-03-02T00:00:00",
          "2015-02-28T00:00:00",
          "2015-02-27T00:00:00",
          "2015-02-26T00:00:00",
          "2015-02-25T00:00:00",
          "2015-02-24T00:00:00",
          "2015-02-23T00:00:00",
          "2015-02-21T00:00:00",
          "2015-02-20T00:00:00",
          "2015-02-19T00:00:00",
          "2015-02-18T00:00:00",
          "2015-02-17T00:00:00",
          "2015-02-16T00:00:00",
          "2015-02-14T00:00:00",
          "2015-02-13T00:00:00",
          "2015-02-12T00:00:00",
          "2015-02-11T00:00:00",
          "2015-02-10T00:00:00",
          "2015-02-09T00:00:00",
          "2015-02-07T00:00:00",
          "2015-02-06T00:00:00",
          "2015-02-05T00:00:00",
          "2015-02-04T00:00:00",
          "2015-02-03T00:00:00",
          "2015-02-02T00:00:00",
          "2015-01-31T00:00:00",
          "2015-01-30T00:00:00",
          "2015-01-29T00:00:00",
          "2015-01-28T00:00:00",
          "2015-01-27T00:00:00",
          "2015-01-26T00:00:00",
          "2015-01-24T00:00:00",
          "2015-01-23T00:00:00",
          "2015-01-22T00:00:00",
          "2015-01-21T00:00:00",
          "2015-01-20T00:00:00",
          "2015-01-19T00:00:00",
          "2015-01-17T00:00:00",
          "2015-01-16T00:00:00",
          "2015-01-15T00:00:00",
          "2015-01-14T00:00:00",
          "2015-01-13T00:00:00",
          "2015-01-12T00:00:00",
          "2015-01-10T00:00:00",
          "2015-01-09T00:00:00",
          "2015-01-08T00:00:00",
          "2015-01-07T00:00:00",
          "2015-01-06T00:00:00",
          "2015-01-05T00:00:00",
          "2015-01-03T00:00:00",
          "2015-01-02T00:00:00",
          "2014-12-31T00:00:00",
          "2014-12-30T00:00:00",
          "2014-12-29T00:00:00",
          "2014-12-27T00:00:00",
          "2014-12-24T00:00:00",
          "2014-12-23T00:00:00",
          "2014-12-22T00:00:00",
          "2014-12-20T00:00:00",
          "2014-12-19T00:00:00",
          "2014-12-18T00:00:00",
          "2014-12-17T00:00:00",
          "2014-12-16T00:00:00",
          "2014-12-15T00:00:00",
          "2014-12-13T00:00:00",
          "2014-12-12T00:00:00",
          "2014-12-11T00:00:00",
          "2014-12-10T00:00:00",
          "2014-12-09T00:00:00",
          "2014-12-08T00:00:00",
          "2014-12-06T00:00:00",
          "2014-12-05T00:00:00",
          "2014-12-04T00:00:00",
          "2014-12-03T00:00:00",
          "2014-12-02T00:00:00",
          "2014-12-01T00:00:00",
          "2014-11-29T00:00:00",
          "2014-11-28T00:00:00",
          "2014-11-27T00:00:00",
          "2014-11-26T00:00:00",
          "2014-11-25T00:00:00",
          "2014-11-24T00:00:00",
          "2014-11-22T00:00:00",
          "2014-11-21T00:00:00",
          "2014-11-20T00:00:00",
          "2014-11-19T00:00:00",
          "2014-11-18T00:00:00",
          "2014-11-17T00:00:00",
          "2014-11-15T00:00:00",
          "2014-11-14T00:00:00",
          "2014-11-13T00:00:00",
          "2014-11-12T00:00:00",
          "2014-11-11T00:00:00",
          "2014-11-10T00:00:00",
          "2014-11-08T00:00:00",
          "2014-11-07T00:00:00",
          "2014-11-06T00:00:00",
          "2014-11-05T00:00:00",
          "2014-11-04T00:00:00",
          "2014-11-03T00:00:00",
          "2014-11-01T00:00:00",
          "2014-10-31T00:00:00",
          "2014-10-30T00:00:00",
          "2014-10-29T00:00:00",
          "2014-10-28T00:00:00",
          "2014-10-27T00:00:00",
          "2014-10-25T00:00:00",
          "2014-10-24T00:00:00",
          "2014-10-23T00:00:00",
          "2014-10-22T00:00:00",
          "2014-10-21T00:00:00",
          "2014-10-20T00:00:00",
          "2014-10-18T00:00:00",
          "2014-10-17T00:00:00",
          "2014-10-16T00:00:00",
          "2014-10-15T00:00:00",
          "2014-10-14T00:00:00",
          "2014-10-13T00:00:00",
          "2014-10-11T00:00:00",
          "2014-10-10T00:00:00",
          "2014-10-09T00:00:00",
          "2014-10-08T00:00:00",
          "2014-10-07T00:00:00",
          "2014-10-06T00:00:00",
          "2014-10-04T00:00:00",
          "2014-10-02T00:00:00",
          "2014-10-01T00:00:00",
          "2014-09-30T00:00:00",
          "2014-09-29T00:00:00",
          "2014-09-27T00:00:00",
          "2014-09-26T00:00:00",
          "2014-09-25T00:00:00",
          "2014-09-24T00:00:00",
          "2014-09-23T00:00:00",
          "2014-09-22T00:00:00",
          "2014-09-20T00:00:00",
          "2014-09-19T00:00:00",
          "2014-09-18T00:00:00",
          "2014-09-17T00:00:00",
          "2014-09-16T00:00:00",
          "2014-09-15T00:00:00",
          "2014-09-13T00:00:00",
          "2014-09-12T00:00:00",
          "2014-09-11T00:00:00",
          "2014-09-10T00:00:00",
          "2014-09-09T00:00:00",
          "2014-09-08T00:00:00",
          "2014-09-06T00:00:00",
          "2014-09-05T00:00:00",
          "2014-09-04T00:00:00",
          "2014-09-03T00:00:00",
          "2014-09-02T00:00:00",
          "2014-09-01T00:00:00",
          "2014-08-30T00:00:00",
          "2014-08-29T00:00:00",
          "2014-08-28T00:00:00",
          "2014-08-27T00:00:00",
          "2014-08-26T00:00:00",
          "2014-08-25T00:00:00",
          "2014-08-23T00:00:00",
          "2014-08-22T00:00:00",
          "2014-08-21T00:00:00",
          "2014-08-20T00:00:00",
          "2014-08-19T00:00:00",
          "2014-08-18T00:00:00",
          "2014-08-16T00:00:00",
          "2014-08-15T00:00:00",
          "2014-08-14T00:00:00",
          "2014-08-13T00:00:00",
          "2014-08-12T00:00:00",
          "2014-08-11T00:00:00",
          "2014-08-09T00:00:00",
          "2014-08-08T00:00:00",
          "2014-08-07T00:00:00",
          "2014-08-06T00:00:00",
          "2014-08-05T00:00:00",
          "2014-08-04T00:00:00",
          "2014-08-02T00:00:00",
          "2014-08-01T00:00:00",
          "2014-07-31T00:00:00",
          "2014-07-30T00:00:00",
          "2014-07-29T00:00:00",
          "2014-07-28T00:00:00",
          "2014-07-26T00:00:00",
          "2014-07-25T00:00:00",
          "2014-07-24T00:00:00",
          "2014-07-23T00:00:00",
          "2014-07-22T00:00:00",
          "2014-07-21T00:00:00",
          "2014-07-19T00:00:00",
          "2014-07-18T00:00:00",
          "2014-07-17T00:00:00",
          "2014-07-16T00:00:00",
          "2014-07-15T00:00:00",
          "2014-07-14T00:00:00",
          "2014-07-12T00:00:00",
          "2014-07-11T00:00:00",
          "2014-07-10T00:00:00",
          "2014-07-09T00:00:00",
          "2014-07-08T00:00:00",
          "2014-07-07T00:00:00",
          "2014-07-05T00:00:00",
          "2014-07-04T00:00:00",
          "2014-07-03T00:00:00",
          "2014-07-02T00:00:00",
          "2014-07-01T00:00:00",
          "2014-06-30T00:00:00",
          "2014-06-28T00:00:00",
          "2014-06-27T00:00:00",
          "2014-06-26T00:00:00",
          "2014-06-25T00:00:00",
          "2014-06-24T00:00:00",
          "2014-06-23T00:00:00",
          "2014-06-21T00:00:00",
          "2014-06-20T00:00:00",
          "2014-06-18T00:00:00",
          "2014-06-17T00:00:00",
          "2014-06-16T00:00:00",
          "2014-06-14T00:00:00",
          "2014-06-13T00:00:00",
          "2014-06-12T00:00:00",
          "2014-06-11T00:00:00",
          "2014-06-10T00:00:00",
          "2014-06-07T00:00:00",
          "2014-06-06T00:00:00",
          "2014-06-05T00:00:00",
          "2014-06-04T00:00:00",
          "2014-06-03T00:00:00",
          "2014-06-02T00:00:00",
          "2014-05-31T00:00:00",
          "2014-05-30T00:00:00",
          "2014-05-28T00:00:00",
          "2014-05-27T00:00:00",
          "2014-05-26T00:00:00",
          "2014-05-24T00:00:00",
          "2014-05-23T00:00:00",
          "2014-05-22T00:00:00",
          "2014-05-21T00:00:00",
          "2014-05-20T00:00:00",
          "2014-05-19T00:00:00",
          "2014-05-17T00:00:00",
          "2014-05-16T00:00:00",
          "2014-05-15T00:00:00",
          "2014-05-14T00:00:00",
          "2014-05-13T00:00:00",
          "2014-05-12T00:00:00",
          "2014-05-10T00:00:00",
          "2014-05-09T00:00:00",
          "2014-05-08T00:00:00",
          "2014-05-07T00:00:00",
          "2014-05-06T00:00:00",
          "2014-05-05T00:00:00",
          "2014-05-03T00:00:00",
          "2014-05-02T00:00:00",
          "2014-04-30T00:00:00",
          "2014-04-29T00:00:00",
          "2014-04-28T00:00:00",
          "2014-04-26T00:00:00",
          "2014-04-25T00:00:00",
          "2014-04-24T00:00:00",
          "2014-04-23T00:00:00",
          "2014-04-22T00:00:00",
          "2014-04-19T00:00:00",
          "2014-04-17T00:00:00",
          "2014-04-16T00:00:00",
          "2014-04-15T00:00:00",
          "2014-04-14T00:00:00",
          "2014-04-12T00:00:00",
          "2014-04-11T00:00:00",
          "2014-04-10T00:00:00",
          "2014-04-09T00:00:00",
          "2014-04-08T00:00:00",
          "2014-04-07T00:00:00",
          "2014-04-05T00:00:00",
          "2014-04-04T00:00:00",
          "2014-04-03T00:00:00",
          "2014-04-02T00:00:00",
          "2014-04-01T00:00:00",
          "2014-03-31T00:00:00",
          "2014-03-29T00:00:00",
          "2014-03-28T00:00:00",
          "2014-03-27T00:00:00",
          "2014-03-26T00:00:00",
          "2014-03-25T00:00:00",
          "2014-03-24T00:00:00",
          "2014-03-22T00:00:00",
          "2014-03-21T00:00:00",
          "2014-03-20T00:00:00",
          "2014-03-19T00:00:00",
          "2014-03-18T00:00:00",
          "2014-03-17T00:00:00",
          "2014-03-15T00:00:00",
          "2014-03-14T00:00:00",
          "2014-03-13T00:00:00",
          "2014-03-12T00:00:00",
          "2014-03-11T00:00:00",
          "2014-03-10T00:00:00",
          "2014-03-08T00:00:00",
          "2014-03-07T00:00:00",
          "2014-03-06T00:00:00",
          "2014-03-05T00:00:00",
          "2014-03-04T00:00:00",
          "2014-03-03T00:00:00",
          "2014-03-01T00:00:00",
          "2014-02-28T00:00:00",
          "2014-02-27T00:00:00",
          "2014-02-26T00:00:00",
          "2014-02-25T00:00:00",
          "2014-02-24T00:00:00",
          "2014-02-22T00:00:00",
          "2014-02-21T00:00:00",
          "2014-02-20T00:00:00",
          "2014-02-19T00:00:00",
          "2014-02-18T00:00:00",
          "2014-02-17T00:00:00",
          "2014-02-15T00:00:00",
          "2014-02-14T00:00:00",
          "2014-02-13T00:00:00",
          "2014-02-12T00:00:00",
          "2014-02-11T00:00:00",
          "2014-02-10T00:00:00",
          "2014-02-08T00:00:00",
          "2014-02-07T00:00:00",
          "2014-02-06T00:00:00",
          "2014-02-05T00:00:00",
          "2014-02-04T00:00:00",
          "2014-02-03T00:00:00",
          "2014-02-01T00:00:00",
          "2014-01-31T00:00:00",
          "2014-01-30T00:00:00",
          "2014-01-29T00:00:00",
          "2014-01-28T00:00:00",
          "2014-01-27T00:00:00",
          "2014-01-25T00:00:00",
          "2014-01-24T00:00:00",
          "2014-01-23T00:00:00",
          "2014-01-22T00:00:00",
          "2014-01-21T00:00:00",
          "2014-01-20T00:00:00",
          "2014-01-18T00:00:00",
          "2014-01-17T00:00:00",
          "2014-01-16T00:00:00",
          "2014-01-15T00:00:00",
          "2014-01-14T00:00:00",
          "2014-01-13T00:00:00",
          "2014-01-11T00:00:00",
          "2014-01-10T00:00:00",
          "2014-01-09T00:00:00",
          "2014-01-08T00:00:00",
          "2014-01-07T00:00:00",
          "2014-01-06T00:00:00",
          "2014-01-04T00:00:00",
          "2014-01-03T00:00:00",
          "2014-01-02T00:00:00",
          "2013-12-31T00:00:00",
          "2013-12-30T00:00:00",
          "2013-12-28T00:00:00",
          "2013-12-27T00:00:00",
          "2013-12-24T00:00:00",
          "2013-12-23T00:00:00",
          "2013-12-21T00:00:00",
          "2013-12-20T00:00:00",
          "2013-12-19T00:00:00",
          "2013-12-18T00:00:00",
          "2013-12-17T00:00:00",
          "2013-12-16T00:00:00",
          "2013-12-14T00:00:00",
          "2013-12-13T00:00:00",
          "2013-12-12T00:00:00",
          "2013-12-11T00:00:00",
          "2013-12-10T00:00:00",
          "2013-12-09T00:00:00",
          "2013-12-07T00:00:00",
          "2013-12-06T00:00:00",
          "2013-12-05T00:00:00",
          "2013-12-04T00:00:00",
          "2013-12-03T00:00:00",
          "2013-12-02T00:00:00",
          "2013-11-30T00:00:00",
          "2013-11-29T00:00:00",
          "2013-11-28T00:00:00",
          "2013-11-27T00:00:00",
          "2013-11-26T00:00:00",
          "2013-11-25T00:00:00",
          "2013-11-23T00:00:00",
          "2013-11-22T00:00:00",
          "2013-11-21T00:00:00",
          "2013-11-20T00:00:00",
          "2013-11-19T00:00:00",
          "2013-11-18T00:00:00",
          "2013-11-16T00:00:00",
          "2013-11-15T00:00:00",
          "2013-11-14T00:00:00",
          "2013-11-13T00:00:00",
          "2013-11-12T00:00:00",
          "2013-11-11T00:00:00",
          "2013-11-09T00:00:00",
          "2013-11-08T00:00:00",
          "2013-11-07T00:00:00",
          "2013-11-06T00:00:00",
          "2013-11-05T00:00:00",
          "2013-11-04T00:00:00",
          "2013-11-02T00:00:00",
          "2013-11-01T00:00:00",
          "2013-10-31T00:00:00",
          "2013-10-30T00:00:00",
          "2013-10-29T00:00:00",
          "2013-10-28T00:00:00",
          "2013-10-26T00:00:00",
          "2013-10-25T00:00:00",
          "2013-10-24T00:00:00",
          "2013-10-23T00:00:00",
          "2013-10-22T00:00:00",
          "2013-10-21T00:00:00",
          "2013-10-19T00:00:00",
          "2013-10-18T00:00:00",
          "2013-10-17T00:00:00",
          "2013-10-16T00:00:00",
          "2013-10-15T00:00:00",
          "2013-10-14T00:00:00",
          "2013-10-12T00:00:00",
          "2013-10-11T00:00:00",
          "2013-10-10T00:00:00",
          "2013-10-09T00:00:00",
          "2013-10-08T00:00:00",
          "2013-10-07T00:00:00",
          "2013-10-05T00:00:00",
          "2013-10-04T00:00:00",
          "2013-10-02T00:00:00",
          "2013-10-01T00:00:00",
          "2013-09-30T00:00:00",
          "2013-09-28T00:00:00",
          "2013-09-27T00:00:00",
          "2013-09-26T00:00:00",
          "2013-09-25T00:00:00",
          "2013-09-24T00:00:00",
          "2013-09-23T00:00:00",
          "2013-09-21T00:00:00",
          "2013-09-20T00:00:00",
          "2013-09-19T00:00:00",
          "2013-09-18T00:00:00",
          "2013-09-17T00:00:00",
          "2013-09-16T00:00:00",
          "2013-09-14T00:00:00",
          "2013-09-13T00:00:00",
          "2013-09-12T00:00:00",
          "2013-09-11T00:00:00",
          "2013-09-10T00:00:00",
          "2013-09-09T00:00:00",
          "2013-09-07T00:00:00",
          "2013-09-06T00:00:00",
          "2013-09-05T00:00:00",
          "2013-09-04T00:00:00",
          "2013-09-03T00:00:00",
          "2013-09-02T00:00:00",
          "2013-08-31T00:00:00",
          "2013-08-30T00:00:00",
          "2013-08-29T00:00:00",
          "2013-08-28T00:00:00",
          "2013-08-27T00:00:00",
          "2013-08-26T00:00:00",
          "2013-08-24T00:00:00",
          "2013-08-23T00:00:00",
          "2013-08-22T00:00:00",
          "2013-08-21T00:00:00",
          "2013-08-20T00:00:00",
          "2013-08-19T00:00:00",
          "2013-08-17T00:00:00",
          "2013-08-16T00:00:00",
          "2013-08-15T00:00:00",
          "2013-08-14T00:00:00",
          "2013-08-13T00:00:00",
          "2013-08-12T00:00:00",
          "2013-08-10T00:00:00",
          "2013-08-09T00:00:00",
          "2013-08-08T00:00:00",
          "2013-08-07T00:00:00",
          "2013-08-06T00:00:00",
          "2013-08-05T00:00:00",
          "2013-08-03T00:00:00",
          "2013-08-02T00:00:00",
          "2013-08-01T00:00:00",
          "2013-07-31T00:00:00",
          "2013-07-30T00:00:00",
          "2013-07-29T00:00:00",
          "2013-07-27T00:00:00",
          "2013-07-26T00:00:00",
          "2013-07-25T00:00:00",
          "2013-07-24T00:00:00",
          "2013-07-23T00:00:00",
          "2013-07-22T00:00:00",
          "2013-07-20T00:00:00",
          "2013-07-19T00:00:00",
          "2013-07-18T00:00:00",
          "2013-07-17T00:00:00",
          "2013-07-16T00:00:00",
          "2013-07-15T00:00:00",
          "2013-07-13T00:00:00",
          "2013-07-12T00:00:00",
          "2013-07-11T00:00:00",
          "2013-07-10T00:00:00",
          "2013-07-09T00:00:00",
          "2013-07-08T00:00:00",
          "2013-07-06T00:00:00",
          "2013-07-05T00:00:00",
          "2013-07-04T00:00:00",
          "2013-07-03T00:00:00",
          "2013-07-02T00:00:00",
          "2013-07-01T00:00:00",
          "2013-06-29T00:00:00",
          "2013-06-28T00:00:00",
          "2013-06-27T00:00:00",
          "2013-06-26T00:00:00",
          "2013-06-25T00:00:00",
          "2013-06-24T00:00:00",
          "2013-06-22T00:00:00",
          "2013-06-21T00:00:00",
          "2013-06-20T00:00:00",
          "2013-06-19T00:00:00",
          "2013-06-18T00:00:00",
          "2013-06-17T00:00:00",
          "2013-06-15T00:00:00",
          "2013-06-14T00:00:00",
          "2013-06-13T00:00:00",
          "2013-06-12T00:00:00",
          "2013-06-11T00:00:00",
          "2013-06-10T00:00:00",
          "2013-06-08T00:00:00",
          "2013-06-07T00:00:00",
          "2013-06-06T00:00:00",
          "2013-06-05T00:00:00",
          "2013-06-04T00:00:00",
          "2013-06-03T00:00:00",
          "2013-06-01T00:00:00",
          "2013-05-31T00:00:00",
          "2013-05-29T00:00:00",
          "2013-05-28T00:00:00",
          "2013-05-27T00:00:00",
          "2013-05-25T00:00:00",
          "2013-05-24T00:00:00",
          "2013-05-23T00:00:00",
          "2013-05-22T00:00:00",
          "2013-05-21T00:00:00",
          "2013-05-18T00:00:00",
          "2013-05-17T00:00:00",
          "2013-05-16T00:00:00",
          "2013-05-15T00:00:00",
          "2013-05-14T00:00:00",
          "2013-05-13T00:00:00",
          "2013-05-11T00:00:00",
          "2013-05-10T00:00:00",
          "2013-05-08T00:00:00",
          "2013-05-07T00:00:00",
          "2013-05-06T00:00:00",
          "2013-05-04T00:00:00",
          "2013-05-03T00:00:00",
          "2013-05-02T00:00:00",
          "2013-04-30T00:00:00",
          "2013-04-29T00:00:00",
          "2013-04-27T00:00:00",
          "2013-04-26T00:00:00",
          "2013-04-25T00:00:00",
          "2013-04-24T00:00:00",
          "2013-04-23T00:00:00",
          "2013-04-22T00:00:00",
          "2013-04-20T00:00:00",
          "2013-04-19T00:00:00",
          "2013-04-18T00:00:00",
          "2013-04-17T00:00:00",
          "2013-04-16T00:00:00",
          "2013-04-15T00:00:00",
          "2013-04-13T00:00:00",
          "2013-04-12T00:00:00",
          "2013-04-11T00:00:00",
          "2013-04-10T00:00:00",
          "2013-04-09T00:00:00",
          "2013-04-08T00:00:00",
          "2013-04-06T00:00:00",
          "2013-04-05T00:00:00",
          "2013-04-04T00:00:00",
          "2013-04-03T00:00:00",
          "2013-04-02T00:00:00",
          "2013-03-30T00:00:00",
          "2013-03-28T00:00:00",
          "2013-03-27T00:00:00",
          "2013-03-26T00:00:00",
          "2013-03-25T00:00:00",
          "2013-03-23T00:00:00",
          "2013-03-22T00:00:00",
          "2013-03-21T00:00:00",
          "2013-03-20T00:00:00",
          "2013-03-19T00:00:00",
          "2013-03-18T00:00:00",
          "2013-03-16T00:00:00",
          "2013-03-15T00:00:00",
          "2013-03-14T00:00:00",
          "2013-03-13T00:00:00",
          "2013-03-12T00:00:00",
          "2013-03-11T00:00:00",
          "2013-03-09T00:00:00",
          "2013-03-08T00:00:00",
          "2013-03-07T00:00:00",
          "2013-03-06T00:00:00",
          "2013-03-05T00:00:00",
          "2013-03-04T00:00:00",
          "2013-03-02T00:00:00",
          "2013-03-01T00:00:00",
          "2013-02-28T00:00:00",
          "2013-02-27T00:00:00",
          "2013-02-26T00:00:00",
          "2013-02-25T00:00:00",
          "2013-02-23T00:00:00",
          "2013-02-22T00:00:00",
          "2013-02-21T00:00:00",
          "2013-02-20T00:00:00",
          "2013-02-19T00:00:00",
          "2013-02-18T00:00:00",
          "2013-02-16T00:00:00",
          "2013-02-15T00:00:00",
          "2013-02-14T00:00:00",
          "2013-02-13T00:00:00",
          "2013-02-12T00:00:00",
          "2013-02-11T00:00:00",
          "2013-02-09T00:00:00",
          "2013-02-08T00:00:00",
          "2013-02-07T00:00:00",
          "2013-02-06T00:00:00",
          "2013-02-05T00:00:00",
          "2013-02-04T00:00:00",
          "2013-02-02T00:00:00",
          "2013-02-01T00:00:00",
          "2013-01-31T00:00:00",
          "2013-01-30T00:00:00",
          "2013-01-29T00:00:00",
          "2013-01-28T00:00:00",
          "2013-01-26T00:00:00",
          "2013-01-25T00:00:00",
          "2013-01-24T00:00:00",
          "2013-01-23T00:00:00",
          "2013-01-22T00:00:00",
          "2013-01-21T00:00:00",
          "2013-01-19T00:00:00",
          "2013-01-18T00:00:00",
          "2013-01-17T00:00:00",
          "2013-01-16T00:00:00",
          "2013-01-15T00:00:00",
          "2013-01-14T00:00:00",
          "2013-01-12T00:00:00",
          "2013-01-11T00:00:00",
          "2013-01-10T00:00:00",
          "2013-01-09T00:00:00",
          "2013-01-08T00:00:00",
          "2013-01-07T00:00:00",
          "2013-01-05T00:00:00",
          "2013-01-04T00:00:00",
          "2013-01-03T00:00:00",
          "2013-01-02T00:00:00"
         ],
         "y": {
          "bdata": "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",
          "dtype": "i2"
         }
        },
        {
         "line": {
          "color": "orange"
         },
         "mode": "lines",
         "name": "Previsto",
         "type": "scatter",
         "x": [
          "2015-07-31T00:00:00",
          "2015-07-30T00:00:00",
          "2015-07-29T00:00:00",
          "2015-07-28T00:00:00",
          "2015-07-27T00:00:00",
          "2015-07-25T00:00:00",
          "2015-07-24T00:00:00",
          "2015-07-23T00:00:00",
          "2015-07-22T00:00:00",
          "2015-07-21T00:00:00",
          "2015-07-20T00:00:00",
          "2015-07-18T00:00:00",
          "2015-07-17T00:00:00",
          "2015-07-16T00:00:00",
          "2015-07-15T00:00:00",
          "2015-07-14T00:00:00",
          "2015-07-13T00:00:00",
          "2015-07-11T00:00:00",
          "2015-07-10T00:00:00",
          "2015-07-09T00:00:00",
          "2015-07-08T00:00:00",
          "2015-07-07T00:00:00",
          "2015-07-06T00:00:00",
          "2015-07-04T00:00:00",
          "2015-07-03T00:00:00",
          "2015-07-02T00:00:00",
          "2015-07-01T00:00:00",
          "2015-06-30T00:00:00",
          "2015-06-29T00:00:00",
          "2015-06-27T00:00:00",
          "2015-06-26T00:00:00",
          "2015-06-25T00:00:00",
          "2015-06-24T00:00:00",
          "2015-06-23T00:00:00",
          "2015-06-22T00:00:00",
          "2015-06-20T00:00:00",
          "2015-06-19T00:00:00",
          "2015-06-18T00:00:00",
          "2015-06-17T00:00:00",
          "2015-06-16T00:00:00",
          "2015-06-15T00:00:00",
          "2015-06-13T00:00:00",
          "2015-06-12T00:00:00",
          "2015-06-11T00:00:00",
          "2015-06-10T00:00:00",
          "2015-06-09T00:00:00",
          "2015-06-08T00:00:00",
          "2015-06-06T00:00:00",
          "2015-06-05T00:00:00",
          "2015-06-03T00:00:00",
          "2015-06-02T00:00:00",
          "2015-06-01T00:00:00",
          "2015-05-30T00:00:00",
          "2015-05-29T00:00:00",
          "2015-05-28T00:00:00",
          "2015-05-27T00:00:00",
          "2015-05-26T00:00:00",
          "2015-05-23T00:00:00",
          "2015-05-22T00:00:00",
          "2015-05-21T00:00:00",
          "2015-05-20T00:00:00",
          "2015-05-19T00:00:00",
          "2015-05-18T00:00:00",
          "2015-05-16T00:00:00",
          "2015-05-15T00:00:00",
          "2015-05-13T00:00:00",
          "2015-05-12T00:00:00",
          "2015-05-11T00:00:00",
          "2015-05-09T00:00:00",
          "2015-05-08T00:00:00",
          "2015-05-07T00:00:00",
          "2015-05-06T00:00:00",
          "2015-05-05T00:00:00",
          "2015-05-04T00:00:00",
          "2015-05-02T00:00:00",
          "2015-04-30T00:00:00",
          "2015-04-29T00:00:00",
          "2015-04-28T00:00:00",
          "2015-04-27T00:00:00",
          "2015-04-25T00:00:00",
          "2015-04-24T00:00:00",
          "2015-04-23T00:00:00",
          "2015-04-22T00:00:00",
          "2015-04-21T00:00:00",
          "2015-04-20T00:00:00",
          "2015-04-18T00:00:00",
          "2015-04-17T00:00:00",
          "2015-04-16T00:00:00",
          "2015-04-15T00:00:00",
          "2015-04-14T00:00:00",
          "2015-04-13T00:00:00",
          "2015-04-11T00:00:00",
          "2015-04-10T00:00:00",
          "2015-04-09T00:00:00",
          "2015-04-08T00:00:00",
          "2015-04-07T00:00:00",
          "2015-04-04T00:00:00",
          "2015-04-02T00:00:00",
          "2015-04-01T00:00:00",
          "2015-03-31T00:00:00",
          "2015-03-30T00:00:00",
          "2015-03-28T00:00:00",
          "2015-03-27T00:00:00",
          "2015-03-26T00:00:00",
          "2015-03-25T00:00:00",
          "2015-03-24T00:00:00",
          "2015-03-23T00:00:00",
          "2015-03-21T00:00:00",
          "2015-03-20T00:00:00",
          "2015-03-19T00:00:00",
          "2015-03-18T00:00:00",
          "2015-03-17T00:00:00",
          "2015-03-16T00:00:00",
          "2015-03-14T00:00:00",
          "2015-03-13T00:00:00",
          "2015-03-12T00:00:00",
          "2015-03-11T00:00:00",
          "2015-03-10T00:00:00",
          "2015-03-09T00:00:00",
          "2015-03-07T00:00:00",
          "2015-03-06T00:00:00",
          "2015-03-05T00:00:00",
          "2015-03-04T00:00:00",
          "2015-03-03T00:00:00",
          "2015-03-02T00:00:00",
          "2015-02-28T00:00:00",
          "2015-02-27T00:00:00",
          "2015-02-26T00:00:00",
          "2015-02-25T00:00:00",
          "2015-02-24T00:00:00",
          "2015-02-23T00:00:00",
          "2015-02-21T00:00:00",
          "2015-02-20T00:00:00",
          "2015-02-19T00:00:00",
          "2015-02-18T00:00:00",
          "2015-02-17T00:00:00",
          "2015-02-16T00:00:00",
          "2015-02-14T00:00:00",
          "2015-02-13T00:00:00",
          "2015-02-12T00:00:00",
          "2015-02-11T00:00:00",
          "2015-02-10T00:00:00",
          "2015-02-09T00:00:00",
          "2015-02-07T00:00:00",
          "2015-02-06T00:00:00",
          "2015-02-05T00:00:00",
          "2015-02-04T00:00:00",
          "2015-02-03T00:00:00",
          "2015-02-02T00:00:00",
          "2015-01-31T00:00:00",
          "2015-01-30T00:00:00",
          "2015-01-29T00:00:00",
          "2015-01-28T00:00:00",
          "2015-01-27T00:00:00",
          "2015-01-26T00:00:00",
          "2015-01-24T00:00:00",
          "2015-01-23T00:00:00",
          "2015-01-22T00:00:00",
          "2015-01-21T00:00:00",
          "2015-01-20T00:00:00",
          "2015-01-19T00:00:00",
          "2015-01-17T00:00:00",
          "2015-01-16T00:00:00",
          "2015-01-15T00:00:00",
          "2015-01-14T00:00:00",
          "2015-01-13T00:00:00",
          "2015-01-12T00:00:00",
          "2015-01-10T00:00:00",
          "2015-01-09T00:00:00",
          "2015-01-08T00:00:00",
          "2015-01-07T00:00:00",
          "2015-01-06T00:00:00",
          "2015-01-05T00:00:00",
          "2015-01-03T00:00:00",
          "2015-01-02T00:00:00",
          "2014-12-31T00:00:00",
          "2014-12-30T00:00:00",
          "2014-12-29T00:00:00",
          "2014-12-27T00:00:00",
          "2014-12-24T00:00:00",
          "2014-12-23T00:00:00",
          "2014-12-22T00:00:00",
          "2014-12-20T00:00:00",
          "2014-12-19T00:00:00",
          "2014-12-18T00:00:00",
          "2014-12-17T00:00:00",
          "2014-12-16T00:00:00",
          "2014-12-15T00:00:00",
          "2014-12-13T00:00:00",
          "2014-12-12T00:00:00",
          "2014-12-11T00:00:00",
          "2014-12-10T00:00:00",
          "2014-12-09T00:00:00",
          "2014-12-08T00:00:00",
          "2014-12-06T00:00:00",
          "2014-12-05T00:00:00",
          "2014-12-04T00:00:00",
          "2014-12-03T00:00:00",
          "2014-12-02T00:00:00",
          "2014-12-01T00:00:00",
          "2014-11-29T00:00:00",
          "2014-11-28T00:00:00",
          "2014-11-27T00:00:00",
          "2014-11-26T00:00:00",
          "2014-11-25T00:00:00",
          "2014-11-24T00:00:00",
          "2014-11-22T00:00:00",
          "2014-11-21T00:00:00",
          "2014-11-20T00:00:00",
          "2014-11-19T00:00:00",
          "2014-11-18T00:00:00",
          "2014-11-17T00:00:00",
          "2014-11-15T00:00:00",
          "2014-11-14T00:00:00",
          "2014-11-13T00:00:00",
          "2014-11-12T00:00:00",
          "2014-11-11T00:00:00",
          "2014-11-10T00:00:00",
          "2014-11-08T00:00:00",
          "2014-11-07T00:00:00",
          "2014-11-06T00:00:00",
          "2014-11-05T00:00:00",
          "2014-11-04T00:00:00",
          "2014-11-03T00:00:00",
          "2014-11-01T00:00:00",
          "2014-10-31T00:00:00",
          "2014-10-30T00:00:00",
          "2014-10-29T00:00:00",
          "2014-10-28T00:00:00",
          "2014-10-27T00:00:00",
          "2014-10-25T00:00:00",
          "2014-10-24T00:00:00",
          "2014-10-23T00:00:00",
          "2014-10-22T00:00:00",
          "2014-10-21T00:00:00",
          "2014-10-20T00:00:00",
          "2014-10-18T00:00:00",
          "2014-10-17T00:00:00",
          "2014-10-16T00:00:00",
          "2014-10-15T00:00:00",
          "2014-10-14T00:00:00",
          "2014-10-13T00:00:00",
          "2014-10-11T00:00:00",
          "2014-10-10T00:00:00",
          "2014-10-09T00:00:00",
          "2014-10-08T00:00:00",
          "2014-10-07T00:00:00",
          "2014-10-06T00:00:00",
          "2014-10-04T00:00:00",
          "2014-10-02T00:00:00",
          "2014-10-01T00:00:00",
          "2014-09-30T00:00:00",
          "2014-09-29T00:00:00",
          "2014-09-27T00:00:00",
          "2014-09-26T00:00:00",
          "2014-09-25T00:00:00",
          "2014-09-24T00:00:00",
          "2014-09-23T00:00:00",
          "2014-09-22T00:00:00",
          "2014-09-20T00:00:00",
          "2014-09-19T00:00:00",
          "2014-09-18T00:00:00",
          "2014-09-17T00:00:00",
          "2014-09-16T00:00:00",
          "2014-09-15T00:00:00",
          "2014-09-13T00:00:00",
          "2014-09-12T00:00:00",
          "2014-09-11T00:00:00",
          "2014-09-10T00:00:00",
          "2014-09-09T00:00:00",
          "2014-09-08T00:00:00",
          "2014-09-06T00:00:00",
          "2014-09-05T00:00:00",
          "2014-09-04T00:00:00",
          "2014-09-03T00:00:00",
          "2014-09-02T00:00:00",
          "2014-09-01T00:00:00",
          "2014-08-30T00:00:00",
          "2014-08-29T00:00:00",
          "2014-08-28T00:00:00",
          "2014-08-27T00:00:00",
          "2014-08-26T00:00:00",
          "2014-08-25T00:00:00",
          "2014-08-23T00:00:00",
          "2014-08-22T00:00:00",
          "2014-08-21T00:00:00",
          "2014-08-20T00:00:00",
          "2014-08-19T00:00:00",
          "2014-08-18T00:00:00",
          "2014-08-16T00:00:00",
          "2014-08-15T00:00:00",
          "2014-08-14T00:00:00",
          "2014-08-13T00:00:00",
          "2014-08-12T00:00:00",
          "2014-08-11T00:00:00",
          "2014-08-09T00:00:00",
          "2014-08-08T00:00:00",
          "2014-08-07T00:00:00",
          "2014-08-06T00:00:00",
          "2014-08-05T00:00:00",
          "2014-08-04T00:00:00",
          "2014-08-02T00:00:00",
          "2014-08-01T00:00:00",
          "2014-07-31T00:00:00",
          "2014-07-30T00:00:00",
          "2014-07-29T00:00:00",
          "2014-07-28T00:00:00",
          "2014-07-26T00:00:00",
          "2014-07-25T00:00:00",
          "2014-07-24T00:00:00",
          "2014-07-23T00:00:00",
          "2014-07-22T00:00:00",
          "2014-07-21T00:00:00",
          "2014-07-19T00:00:00",
          "2014-07-18T00:00:00",
          "2014-07-17T00:00:00",
          "2014-07-16T00:00:00",
          "2014-07-15T00:00:00",
          "2014-07-14T00:00:00",
          "2014-07-12T00:00:00",
          "2014-07-11T00:00:00",
          "2014-07-10T00:00:00",
          "2014-07-09T00:00:00",
          "2014-07-08T00:00:00",
          "2014-07-07T00:00:00",
          "2014-07-05T00:00:00",
          "2014-07-04T00:00:00",
          "2014-07-03T00:00:00",
          "2014-07-02T00:00:00",
          "2014-07-01T00:00:00",
          "2014-06-30T00:00:00",
          "2014-06-28T00:00:00",
          "2014-06-27T00:00:00",
          "2014-06-26T00:00:00",
          "2014-06-25T00:00:00",
          "2014-06-24T00:00:00",
          "2014-06-23T00:00:00",
          "2014-06-21T00:00:00",
          "2014-06-20T00:00:00",
          "2014-06-18T00:00:00",
          "2014-06-17T00:00:00",
          "2014-06-16T00:00:00",
          "2014-06-14T00:00:00",
          "2014-06-13T00:00:00",
          "2014-06-12T00:00:00",
          "2014-06-11T00:00:00",
          "2014-06-10T00:00:00",
          "2014-06-07T00:00:00",
          "2014-06-06T00:00:00",
          "2014-06-05T00:00:00",
          "2014-06-04T00:00:00",
          "2014-06-03T00:00:00",
          "2014-06-02T00:00:00",
          "2014-05-31T00:00:00",
          "2014-05-30T00:00:00",
          "2014-05-28T00:00:00",
          "2014-05-27T00:00:00",
          "2014-05-26T00:00:00",
          "2014-05-24T00:00:00",
          "2014-05-23T00:00:00",
          "2014-05-22T00:00:00",
          "2014-05-21T00:00:00",
          "2014-05-20T00:00:00",
          "2014-05-19T00:00:00",
          "2014-05-17T00:00:00",
          "2014-05-16T00:00:00",
          "2014-05-15T00:00:00",
          "2014-05-14T00:00:00",
          "2014-05-13T00:00:00",
          "2014-05-12T00:00:00",
          "2014-05-10T00:00:00",
          "2014-05-09T00:00:00",
          "2014-05-08T00:00:00",
          "2014-05-07T00:00:00",
          "2014-05-06T00:00:00",
          "2014-05-05T00:00:00",
          "2014-05-03T00:00:00",
          "2014-05-02T00:00:00",
          "2014-04-30T00:00:00",
          "2014-04-29T00:00:00",
          "2014-04-28T00:00:00",
          "2014-04-26T00:00:00",
          "2014-04-25T00:00:00",
          "2014-04-24T00:00:00",
          "2014-04-23T00:00:00",
          "2014-04-22T00:00:00",
          "2014-04-19T00:00:00",
          "2014-04-17T00:00:00",
          "2014-04-16T00:00:00",
          "2014-04-15T00:00:00",
          "2014-04-14T00:00:00",
          "2014-04-12T00:00:00",
          "2014-04-11T00:00:00",
          "2014-04-10T00:00:00",
          "2014-04-09T00:00:00",
          "2014-04-08T00:00:00",
          "2014-04-07T00:00:00",
          "2014-04-05T00:00:00",
          "2014-04-04T00:00:00",
          "2014-04-03T00:00:00",
          "2014-04-02T00:00:00",
          "2014-04-01T00:00:00",
          "2014-03-31T00:00:00",
          "2014-03-29T00:00:00",
          "2014-03-28T00:00:00",
          "2014-03-27T00:00:00",
          "2014-03-26T00:00:00",
          "2014-03-25T00:00:00",
          "2014-03-24T00:00:00",
          "2014-03-22T00:00:00",
          "2014-03-21T00:00:00",
          "2014-03-20T00:00:00",
          "2014-03-19T00:00:00",
          "2014-03-18T00:00:00",
          "2014-03-17T00:00:00",
          "2014-03-15T00:00:00",
          "2014-03-14T00:00:00",
          "2014-03-13T00:00:00",
          "2014-03-12T00:00:00",
          "2014-03-11T00:00:00",
          "2014-03-10T00:00:00",
          "2014-03-08T00:00:00",
          "2014-03-07T00:00:00",
          "2014-03-06T00:00:00",
          "2014-03-05T00:00:00",
          "2014-03-04T00:00:00",
          "2014-03-03T00:00:00",
          "2014-03-01T00:00:00",
          "2014-02-28T00:00:00",
          "2014-02-27T00:00:00",
          "2014-02-26T00:00:00",
          "2014-02-25T00:00:00",
          "2014-02-24T00:00:00",
          "2014-02-22T00:00:00",
          "2014-02-21T00:00:00",
          "2014-02-20T00:00:00",
          "2014-02-19T00:00:00",
          "2014-02-18T00:00:00",
          "2014-02-17T00:00:00",
          "2014-02-15T00:00:00",
          "2014-02-14T00:00:00",
          "2014-02-13T00:00:00",
          "2014-02-12T00:00:00",
          "2014-02-11T00:00:00",
          "2014-02-10T00:00:00",
          "2014-02-08T00:00:00",
          "2014-02-07T00:00:00",
          "2014-02-06T00:00:00",
          "2014-02-05T00:00:00",
          "2014-02-04T00:00:00",
          "2014-02-03T00:00:00",
          "2014-02-01T00:00:00",
          "2014-01-31T00:00:00",
          "2014-01-30T00:00:00",
          "2014-01-29T00:00:00",
          "2014-01-28T00:00:00",
          "2014-01-27T00:00:00",
          "2014-01-25T00:00:00",
          "2014-01-24T00:00:00",
          "2014-01-23T00:00:00",
          "2014-01-22T00:00:00",
          "2014-01-21T00:00:00",
          "2014-01-20T00:00:00",
          "2014-01-18T00:00:00",
          "2014-01-17T00:00:00",
          "2014-01-16T00:00:00",
          "2014-01-15T00:00:00",
          "2014-01-14T00:00:00",
          "2014-01-13T00:00:00",
          "2014-01-11T00:00:00",
          "2014-01-10T00:00:00",
          "2014-01-09T00:00:00",
          "2014-01-08T00:00:00",
          "2014-01-07T00:00:00",
          "2014-01-06T00:00:00",
          "2014-01-04T00:00:00",
          "2014-01-03T00:00:00",
          "2014-01-02T00:00:00",
          "2013-12-31T00:00:00",
          "2013-12-30T00:00:00",
          "2013-12-28T00:00:00",
          "2013-12-27T00:00:00",
          "2013-12-24T00:00:00",
          "2013-12-23T00:00:00",
          "2013-12-21T00:00:00",
          "2013-12-20T00:00:00",
          "2013-12-19T00:00:00",
          "2013-12-18T00:00:00",
          "2013-12-17T00:00:00",
          "2013-12-16T00:00:00",
          "2013-12-14T00:00:00",
          "2013-12-13T00:00:00",
          "2013-12-12T00:00:00",
          "2013-12-11T00:00:00",
          "2013-12-10T00:00:00",
          "2013-12-09T00:00:00",
          "2013-12-07T00:00:00",
          "2013-12-06T00:00:00",
          "2013-12-05T00:00:00",
          "2013-12-04T00:00:00",
          "2013-12-03T00:00:00",
          "2013-12-02T00:00:00",
          "2013-11-30T00:00:00",
          "2013-11-29T00:00:00",
          "2013-11-28T00:00:00",
          "2013-11-27T00:00:00",
          "2013-11-26T00:00:00",
          "2013-11-25T00:00:00",
          "2013-11-23T00:00:00",
          "2013-11-22T00:00:00",
          "2013-11-21T00:00:00",
          "2013-11-20T00:00:00",
          "2013-11-19T00:00:00",
          "2013-11-18T00:00:00",
          "2013-11-16T00:00:00",
          "2013-11-15T00:00:00",
          "2013-11-14T00:00:00",
          "2013-11-13T00:00:00",
          "2013-11-12T00:00:00",
          "2013-11-11T00:00:00",
          "2013-11-09T00:00:00",
          "2013-11-08T00:00:00",
          "2013-11-07T00:00:00",
          "2013-11-06T00:00:00",
          "2013-11-05T00:00:00",
          "2013-11-04T00:00:00",
          "2013-11-02T00:00:00",
          "2013-11-01T00:00:00",
          "2013-10-31T00:00:00",
          "2013-10-30T00:00:00",
          "2013-10-29T00:00:00",
          "2013-10-28T00:00:00",
          "2013-10-26T00:00:00",
          "2013-10-25T00:00:00",
          "2013-10-24T00:00:00",
          "2013-10-23T00:00:00",
          "2013-10-22T00:00:00",
          "2013-10-21T00:00:00",
          "2013-10-19T00:00:00",
          "2013-10-18T00:00:00",
          "2013-10-17T00:00:00",
          "2013-10-16T00:00:00",
          "2013-10-15T00:00:00",
          "2013-10-14T00:00:00",
          "2013-10-12T00:00:00",
          "2013-10-11T00:00:00",
          "2013-10-10T00:00:00",
          "2013-10-09T00:00:00",
          "2013-10-08T00:00:00",
          "2013-10-07T00:00:00",
          "2013-10-05T00:00:00",
          "2013-10-04T00:00:00",
          "2013-10-02T00:00:00",
          "2013-10-01T00:00:00",
          "2013-09-30T00:00:00",
          "2013-09-28T00:00:00",
          "2013-09-27T00:00:00",
          "2013-09-26T00:00:00",
          "2013-09-25T00:00:00",
          "2013-09-24T00:00:00",
          "2013-09-23T00:00:00",
          "2013-09-21T00:00:00",
          "2013-09-20T00:00:00",
          "2013-09-19T00:00:00",
          "2013-09-18T00:00:00",
          "2013-09-17T00:00:00",
          "2013-09-16T00:00:00",
          "2013-09-14T00:00:00",
          "2013-09-13T00:00:00",
          "2013-09-12T00:00:00",
          "2013-09-11T00:00:00",
          "2013-09-10T00:00:00",
          "2013-09-09T00:00:00",
          "2013-09-07T00:00:00",
          "2013-09-06T00:00:00",
          "2013-09-05T00:00:00",
          "2013-09-04T00:00:00",
          "2013-09-03T00:00:00",
          "2013-09-02T00:00:00",
          "2013-08-31T00:00:00",
          "2013-08-30T00:00:00",
          "2013-08-29T00:00:00",
          "2013-08-28T00:00:00",
          "2013-08-27T00:00:00",
          "2013-08-26T00:00:00",
          "2013-08-24T00:00:00",
          "2013-08-23T00:00:00",
          "2013-08-22T00:00:00",
          "2013-08-21T00:00:00",
          "2013-08-20T00:00:00",
          "2013-08-19T00:00:00",
          "2013-08-17T00:00:00",
          "2013-08-16T00:00:00",
          "2013-08-15T00:00:00",
          "2013-08-14T00:00:00",
          "2013-08-13T00:00:00",
          "2013-08-12T00:00:00",
          "2013-08-10T00:00:00",
          "2013-08-09T00:00:00",
          "2013-08-08T00:00:00",
          "2013-08-07T00:00:00",
          "2013-08-06T00:00:00",
          "2013-08-05T00:00:00",
          "2013-08-03T00:00:00",
          "2013-08-02T00:00:00",
          "2013-08-01T00:00:00",
          "2013-07-31T00:00:00",
          "2013-07-30T00:00:00",
          "2013-07-29T00:00:00",
          "2013-07-27T00:00:00",
          "2013-07-26T00:00:00",
          "2013-07-25T00:00:00",
          "2013-07-24T00:00:00",
          "2013-07-23T00:00:00",
          "2013-07-22T00:00:00",
          "2013-07-20T00:00:00",
          "2013-07-19T00:00:00",
          "2013-07-18T00:00:00",
          "2013-07-17T00:00:00",
          "2013-07-16T00:00:00",
          "2013-07-15T00:00:00",
          "2013-07-13T00:00:00",
          "2013-07-12T00:00:00",
          "2013-07-11T00:00:00",
          "2013-07-10T00:00:00",
          "2013-07-09T00:00:00",
          "2013-07-08T00:00:00",
          "2013-07-06T00:00:00",
          "2013-07-05T00:00:00",
          "2013-07-04T00:00:00",
          "2013-07-03T00:00:00",
          "2013-07-02T00:00:00",
          "2013-07-01T00:00:00",
          "2013-06-29T00:00:00",
          "2013-06-28T00:00:00",
          "2013-06-27T00:00:00",
          "2013-06-26T00:00:00",
          "2013-06-25T00:00:00",
          "2013-06-24T00:00:00",
          "2013-06-22T00:00:00",
          "2013-06-21T00:00:00",
          "2013-06-20T00:00:00",
          "2013-06-19T00:00:00",
          "2013-06-18T00:00:00",
          "2013-06-17T00:00:00",
          "2013-06-15T00:00:00",
          "2013-06-14T00:00:00",
          "2013-06-13T00:00:00",
          "2013-06-12T00:00:00",
          "2013-06-11T00:00:00",
          "2013-06-10T00:00:00",
          "2013-06-08T00:00:00",
          "2013-06-07T00:00:00",
          "2013-06-06T00:00:00",
          "2013-06-05T00:00:00",
          "2013-06-04T00:00:00",
          "2013-06-03T00:00:00",
          "2013-06-01T00:00:00",
          "2013-05-31T00:00:00",
          "2013-05-29T00:00:00",
          "2013-05-28T00:00:00",
          "2013-05-27T00:00:00",
          "2013-05-25T00:00:00",
          "2013-05-24T00:00:00",
          "2013-05-23T00:00:00",
          "2013-05-22T00:00:00",
          "2013-05-21T00:00:00",
          "2013-05-18T00:00:00",
          "2013-05-17T00:00:00",
          "2013-05-16T00:00:00",
          "2013-05-15T00:00:00",
          "2013-05-14T00:00:00",
          "2013-05-13T00:00:00",
          "2013-05-11T00:00:00",
          "2013-05-10T00:00:00",
          "2013-05-08T00:00:00",
          "2013-05-07T00:00:00",
          "2013-05-06T00:00:00",
          "2013-05-04T00:00:00",
          "2013-05-03T00:00:00",
          "2013-05-02T00:00:00",
          "2013-04-30T00:00:00",
          "2013-04-29T00:00:00",
          "2013-04-27T00:00:00",
          "2013-04-26T00:00:00",
          "2013-04-25T00:00:00",
          "2013-04-24T00:00:00",
          "2013-04-23T00:00:00",
          "2013-04-22T00:00:00",
          "2013-04-20T00:00:00",
          "2013-04-19T00:00:00",
          "2013-04-18T00:00:00",
          "2013-04-17T00:00:00",
          "2013-04-16T00:00:00",
          "2013-04-15T00:00:00",
          "2013-04-13T00:00:00",
          "2013-04-12T00:00:00",
          "2013-04-11T00:00:00",
          "2013-04-10T00:00:00",
          "2013-04-09T00:00:00",
          "2013-04-08T00:00:00",
          "2013-04-06T00:00:00",
          "2013-04-05T00:00:00",
          "2013-04-04T00:00:00",
          "2013-04-03T00:00:00",
          "2013-04-02T00:00:00",
          "2013-03-30T00:00:00",
          "2013-03-28T00:00:00",
          "2013-03-27T00:00:00",
          "2013-03-26T00:00:00",
          "2013-03-25T00:00:00",
          "2013-03-23T00:00:00",
          "2013-03-22T00:00:00",
          "2013-03-21T00:00:00",
          "2013-03-20T00:00:00",
          "2013-03-19T00:00:00",
          "2013-03-18T00:00:00",
          "2013-03-16T00:00:00",
          "2013-03-15T00:00:00",
          "2013-03-14T00:00:00",
          "2013-03-13T00:00:00",
          "2013-03-12T00:00:00",
          "2013-03-11T00:00:00",
          "2013-03-09T00:00:00",
          "2013-03-08T00:00:00",
          "2013-03-07T00:00:00",
          "2013-03-06T00:00:00",
          "2013-03-05T00:00:00",
          "2013-03-04T00:00:00",
          "2013-03-02T00:00:00",
          "2013-03-01T00:00:00",
          "2013-02-28T00:00:00",
          "2013-02-27T00:00:00",
          "2013-02-26T00:00:00",
          "2013-02-25T00:00:00",
          "2013-02-23T00:00:00",
          "2013-02-22T00:00:00",
          "2013-02-21T00:00:00",
          "2013-02-20T00:00:00",
          "2013-02-19T00:00:00",
          "2013-02-18T00:00:00",
          "2013-02-16T00:00:00",
          "2013-02-15T00:00:00",
          "2013-02-14T00:00:00",
          "2013-02-13T00:00:00",
          "2013-02-12T00:00:00",
          "2013-02-11T00:00:00",
          "2013-02-09T00:00:00",
          "2013-02-08T00:00:00",
          "2013-02-07T00:00:00",
          "2013-02-06T00:00:00",
          "2013-02-05T00:00:00",
          "2013-02-04T00:00:00",
          "2013-02-02T00:00:00",
          "2013-02-01T00:00:00",
          "2013-01-31T00:00:00",
          "2013-01-30T00:00:00",
          "2013-01-29T00:00:00",
          "2013-01-28T00:00:00",
          "2013-01-26T00:00:00",
          "2013-01-25T00:00:00",
          "2013-01-24T00:00:00",
          "2013-01-23T00:00:00",
          "2013-01-22T00:00:00",
          "2013-01-21T00:00:00",
          "2013-01-19T00:00:00",
          "2013-01-18T00:00:00",
          "2013-01-17T00:00:00",
          "2013-01-16T00:00:00",
          "2013-01-15T00:00:00",
          "2013-01-14T00:00:00",
          "2013-01-12T00:00:00",
          "2013-01-11T00:00:00",
          "2013-01-10T00:00:00",
          "2013-01-09T00:00:00",
          "2013-01-08T00:00:00",
          "2013-01-07T00:00:00",
          "2013-01-05T00:00:00",
          "2013-01-04T00:00:00",
          "2013-01-03T00:00:00",
          "2013-01-02T00:00:00"
         ],
         "y": {
          "bdata": "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",
          "dtype": "f8"
         }
        },
        {
         "line": {
          "color": "green"
         },
         "marker": {
          "size": 6
         },
         "mode": "lines",
         "name": "Previsão Futura",
         "type": "scatter",
         "x": [
          "2015-08-01T00:00:00",
          "2015-08-02T00:00:00",
          "2015-08-03T00:00:00",
          "2015-08-04T00:00:00",
          "2015-08-05T00:00:00",
          "2015-08-06T00:00:00",
          "2015-08-07T00:00:00",
          "2015-08-08T00:00:00",
          "2015-08-09T00:00:00",
          "2015-08-10T00:00:00",
          "2015-08-11T00:00:00",
          "2015-08-12T00:00:00",
          "2015-08-13T00:00:00",
          "2015-08-14T00:00:00",
          "2015-08-15T00:00:00",
          "2015-08-16T00:00:00",
          "2015-08-17T00:00:00",
          "2015-08-18T00:00:00",
          "2015-08-19T00:00:00",
          "2015-08-20T00:00:00",
          "2015-08-21T00:00:00",
          "2015-08-22T00:00:00",
          "2015-08-23T00:00:00",
          "2015-08-24T00:00:00",
          "2015-08-25T00:00:00",
          "2015-08-26T00:00:00",
          "2015-08-27T00:00:00",
          "2015-08-28T00:00:00",
          "2015-08-29T00:00:00",
          "2015-08-30T00:00:00",
          "2015-08-31T00:00:00",
          "2015-09-01T00:00:00",
          "2015-09-02T00:00:00",
          "2015-09-03T00:00:00",
          "2015-09-04T00:00:00",
          "2015-09-05T00:00:00",
          "2015-09-06T00:00:00",
          "2015-09-07T00:00:00",
          "2015-09-08T00:00:00",
          "2015-09-09T00:00:00",
          "2015-09-10T00:00:00",
          "2015-09-11T00:00:00",
          "2015-09-12T00:00:00",
          "2015-09-13T00:00:00",
          "2015-09-14T00:00:00",
          "2015-09-15T00:00:00",
          "2015-09-16T00:00:00",
          "2015-09-17T00:00:00"
         ],
         "y": {
          "bdata": "erWZCMbSsUBtsN9CirKxQCUVUvqdhrJAJRAiX1qAsEBHItikT+KvQEvgyjbp/q5AP42rbSposECpOaq7UiKxQDelqPPnDrFAKpKWH8PysUCXAch0dP2vQIIUwvxDB69ARc+WzpFOrkCJnzJh8SWwQKwoE/369bBA2ULKpbj3sECyHr0oY++xQCoGfkA8DbBAyLd0gylDr0BA13EIl6OuQPKzfuPKWbBAoyuUlrQvsUAU3RPFuTOxQPpG8p0OKrJAnXdjlQ1DsEBO9SLPeZ6vQDK2f/uX6K5Anrqfm45usEBQMpKkpTSxQHAY7XRTJ7FAkcipLmsLskB4eyU+7xGwQJDvqq4jGK9A2gNOXFpArkD0AUp2OQuwQDPd4aBwxLBAsCET+h2tsEDF7sApiYqxQHqnFPohHK9ArqCqq1ESrkDnL2Q2nUStQEhrqpL+LK9AyRb/I9pcsEBYyhezcFawQEeS4wszSLFAbo1ciRnGrkASOOfDyu+tQDxiowY0Wa1A",
          "dtype": "f8"
         }
        }
       ],
       "layout": {
        "height": 400,
        "legend": {
         "x": 0.01,
         "y": 0.99
        },
        "template": {
         "data": {
          "bar": [
           {
            "error_x": {
             "color": "#2a3f5f"
            },
            "error_y": {
             "color": "#2a3f5f"
            },
            "marker": {
             "line": {
              "color": "white",
              "width": 0.5
             },
             "pattern": {
              "fillmode": "overlay",
              "size": 10,
              "solidity": 0.2
             }
            },
            "type": "bar"
           }
          ],
          "barpolar": [
           {
            "marker": {
             "line": {
              "color": "white",
              "width": 0.5
             },
             "pattern": {
              "fillmode": "overlay",
              "size": 10,
              "solidity": 0.2
             }
            },
            "type": "barpolar"
           }
          ],
          "carpet": [
           {
            "aaxis": {
             "endlinecolor": "#2a3f5f",
             "gridcolor": "#C8D4E3",
             "linecolor": "#C8D4E3",
             "minorgridcolor": "#C8D4E3",
             "startlinecolor": "#2a3f5f"
            },
            "baxis": {
             "endlinecolor": "#2a3f5f",
             "gridcolor": "#C8D4E3",
             "linecolor": "#C8D4E3",
             "minorgridcolor": "#C8D4E3",
             "startlinecolor": "#2a3f5f"
            },
            "type": "carpet"
           }
          ],
          "choropleth": [
           {
            "colorbar": {
             "outlinewidth": 0,
             "ticks": ""
            },
            "type": "choropleth"
           }
          ],
          "contour": [
           {
            "colorbar": {
             "outlinewidth": 0,
             "ticks": ""
            },
            "colorscale": [
             [
              0,
              "#0d0887"
             ],
             [
              0.1111111111111111,
              "#46039f"
             ],
             [
              0.2222222222222222,
              "#7201a8"
             ],
             [
              0.3333333333333333,
              "#9c179e"
             ],
             [
              0.4444444444444444,
              "#bd3786"
             ],
             [
              0.5555555555555556,
              "#d8576b"
             ],
             [
              0.6666666666666666,
              "#ed7953"
             ],
             [
              0.7777777777777778,
              "#fb9f3a"
             ],
             [
              0.8888888888888888,
              "#fdca26"
             ],
             [
              1,
              "#f0f921"
             ]
            ],
            "type": "contour"
           }
          ],
          "contourcarpet": [
           {
            "colorbar": {
             "outlinewidth": 0,
             "ticks": ""
            },
            "type": "contourcarpet"
           }
          ],
          "heatmap": [
           {
            "colorbar": {
             "outlinewidth": 0,
             "ticks": ""
            },
            "colorscale": [
             [
              0,
              "#0d0887"
             ],
             [
              0.1111111111111111,
              "#46039f"
             ],
             [
              0.2222222222222222,
              "#7201a8"
             ],
             [
              0.3333333333333333,
              "#9c179e"
             ],
             [
              0.4444444444444444,
              "#bd3786"
             ],
             [
              0.5555555555555556,
              "#d8576b"
             ],
             [
              0.6666666666666666,
              "#ed7953"
             ],
             [
              0.7777777777777778,
              "#fb9f3a"
             ],
             [
              0.8888888888888888,
              "#fdca26"
             ],
             [
              1,
              "#f0f921"
             ]
            ],
            "type": "heatmap"
           }
          ],
          "histogram": [
           {
            "marker": {
             "pattern": {
              "fillmode": "overlay",
              "size": 10,
              "solidity": 0.2
             }
            },
            "type": "histogram"
           }
          ],
          "histogram2d": [
           {
            "colorbar": {
             "outlinewidth": 0,
             "ticks": ""
            },
            "colorscale": [
             [
              0,
              "#0d0887"
             ],
             [
              0.1111111111111111,
              "#46039f"
             ],
             [
              0.2222222222222222,
              "#7201a8"
             ],
             [
              0.3333333333333333,
              "#9c179e"
             ],
             [
              0.4444444444444444,
              "#bd3786"
             ],
             [
              0.5555555555555556,
              "#d8576b"
             ],
             [
              0.6666666666666666,
              "#ed7953"
             ],
             [
              0.7777777777777778,
              "#fb9f3a"
             ],
             [
              0.8888888888888888,
              "#fdca26"
             ],
             [
              1,
              "#f0f921"
             ]
            ],
            "type": "histogram2d"
           }
          ],
          "histogram2dcontour": [
           {
            "colorbar": {
             "outlinewidth": 0,
             "ticks": ""
            },
            "colorscale": [
             [
              0,
              "#0d0887"
             ],
             [
              0.1111111111111111,
              "#46039f"
             ],
             [
              0.2222222222222222,
              "#7201a8"
             ],
             [
              0.3333333333333333,
              "#9c179e"
             ],
             [
              0.4444444444444444,
              "#bd3786"
             ],
             [
              0.5555555555555556,
              "#d8576b"
             ],
             [
              0.6666666666666666,
              "#ed7953"
             ],
             [
              0.7777777777777778,
              "#fb9f3a"
             ],
             [
              0.8888888888888888,
              "#fdca26"
             ],
             [
              1,
              "#f0f921"
             ]
            ],
            "type": "histogram2dcontour"
           }
          ],
          "mesh3d": [
           {
            "colorbar": {
             "outlinewidth": 0,
             "ticks": ""
            },
            "type": "mesh3d"
           }
          ],
          "parcoords": [
           {
            "line": {
             "colorbar": {
              "outlinewidth": 0,
              "ticks": ""
             }
            },
            "type": "parcoords"
           }
          ],
          "pie": [
           {
            "automargin": true,
            "type": "pie"
           }
          ],
          "scatter": [
           {
            "fillpattern": {
             "fillmode": "overlay",
             "size": 10,
             "solidity": 0.2
            },
            "type": "scatter"
           }
          ],
          "scatter3d": [
           {
            "line": {
             "colorbar": {
              "outlinewidth": 0,
              "ticks": ""
             }
            },
            "marker": {
             "colorbar": {
              "outlinewidth": 0,
              "ticks": ""
             }
            },
            "type": "scatter3d"
           }
          ],
          "scattercarpet": [
           {
            "marker": {
             "colorbar": {
              "outlinewidth": 0,
              "ticks": ""
             }
            },
            "type": "scattercarpet"
           }
          ],
          "scattergeo": [
           {
            "marker": {
             "colorbar": {
              "outlinewidth": 0,
              "ticks": ""
             }
            },
            "type": "scattergeo"
           }
          ],
          "scattergl": [
           {
            "marker": {
             "colorbar": {
              "outlinewidth": 0,
              "ticks": ""
             }
            },
            "type": "scattergl"
           }
          ],
          "scattermap": [
           {
            "marker": {
             "colorbar": {
              "outlinewidth": 0,
              "ticks": ""
             }
            },
            "type": "scattermap"
           }
          ],
          "scattermapbox": [
           {
            "marker": {
             "colorbar": {
              "outlinewidth": 0,
              "ticks": ""
             }
            },
            "type": "scattermapbox"
           }
          ],
          "scatterpolar": [
           {
            "marker": {
             "colorbar": {
              "outlinewidth": 0,
              "ticks": ""
             }
            },
            "type": "scatterpolar"
           }
          ],
          "scatterpolargl": [
           {
            "marker": {
             "colorbar": {
              "outlinewidth": 0,
              "ticks": ""
             }
            },
            "type": "scatterpolargl"
           }
          ],
          "scatterternary": [
           {
            "marker": {
             "colorbar": {
              "outlinewidth": 0,
              "ticks": ""
             }
            },
            "type": "scatterternary"
           }
          ],
          "surface": [
           {
            "colorbar": {
             "outlinewidth": 0,
             "ticks": ""
            },
            "colorscale": [
             [
              0,
              "#0d0887"
             ],
             [
              0.1111111111111111,
              "#46039f"
             ],
             [
              0.2222222222222222,
              "#7201a8"
             ],
             [
              0.3333333333333333,
              "#9c179e"
             ],
             [
              0.4444444444444444,
              "#bd3786"
             ],
             [
              0.5555555555555556,
              "#d8576b"
             ],
             [
              0.6666666666666666,
              "#ed7953"
             ],
             [
              0.7777777777777778,
              "#fb9f3a"
             ],
             [
              0.8888888888888888,
              "#fdca26"
             ],
             [
              1,
              "#f0f921"
             ]
            ],
            "type": "surface"
           }
          ],
          "table": [
           {
            "cells": {
             "fill": {
              "color": "#EBF0F8"
             },
             "line": {
              "color": "white"
             }
            },
            "header": {
             "fill": {
              "color": "#C8D4E3"
             },
             "line": {
              "color": "white"
             }
            },
            "type": "table"
           }
          ]
         },
         "layout": {
          "annotationdefaults": {
           "arrowcolor": "#2a3f5f",
           "arrowhead": 0,
           "arrowwidth": 1
          },
          "autotypenumbers": "strict",
          "coloraxis": {
           "colorbar": {
            "outlinewidth": 0,
            "ticks": ""
           }
          },
          "colorscale": {
           "diverging": [
            [
             0,
             "#8e0152"
            ],
            [
             0.1,
             "#c51b7d"
            ],
            [
             0.2,
             "#de77ae"
            ],
            [
             0.3,
             "#f1b6da"
            ],
            [
             0.4,
             "#fde0ef"
            ],
            [
             0.5,
             "#f7f7f7"
            ],
            [
             0.6,
             "#e6f5d0"
            ],
            [
             0.7,
             "#b8e186"
            ],
            [
             0.8,
             "#7fbc41"
            ],
            [
             0.9,
             "#4d9221"
            ],
            [
             1,
             "#276419"
            ]
           ],
           "sequential": [
            [
             0,
             "#0d0887"
            ],
            [
             0.1111111111111111,
             "#46039f"
            ],
            [
             0.2222222222222222,
             "#7201a8"
            ],
            [
             0.3333333333333333,
             "#9c179e"
            ],
            [
             0.4444444444444444,
             "#bd3786"
            ],
            [
             0.5555555555555556,
             "#d8576b"
            ],
            [
             0.6666666666666666,
             "#ed7953"
            ],
            [
             0.7777777777777778,
             "#fb9f3a"
            ],
            [
             0.8888888888888888,
             "#fdca26"
            ],
            [
             1,
             "#f0f921"
            ]
           ],
           "sequentialminus": [
            [
             0,
             "#0d0887"
            ],
            [
             0.1111111111111111,
             "#46039f"
            ],
            [
             0.2222222222222222,
             "#7201a8"
            ],
            [
             0.3333333333333333,
             "#9c179e"
            ],
            [
             0.4444444444444444,
             "#bd3786"
            ],
            [
             0.5555555555555556,
             "#d8576b"
            ],
            [
             0.6666666666666666,
             "#ed7953"
            ],
            [
             0.7777777777777778,
             "#fb9f3a"
            ],
            [
             0.8888888888888888,
             "#fdca26"
            ],
            [
             1,
             "#f0f921"
            ]
           ]
          },
          "colorway": [
           "#636efa",
           "#EF553B",
           "#00cc96",
           "#ab63fa",
           "#FFA15A",
           "#19d3f3",
           "#FF6692",
           "#B6E880",
           "#FF97FF",
           "#FECB52"
          ],
          "font": {
           "color": "#2a3f5f"
          },
          "geo": {
           "bgcolor": "white",
           "lakecolor": "white",
           "landcolor": "white",
           "showlakes": true,
           "showland": true,
           "subunitcolor": "#C8D4E3"
          },
          "hoverlabel": {
           "align": "left"
          },
          "hovermode": "closest",
          "mapbox": {
           "style": "light"
          },
          "paper_bgcolor": "white",
          "plot_bgcolor": "white",
          "polar": {
           "angularaxis": {
            "gridcolor": "#EBF0F8",
            "linecolor": "#EBF0F8",
            "ticks": ""
           },
           "bgcolor": "white",
           "radialaxis": {
            "gridcolor": "#EBF0F8",
            "linecolor": "#EBF0F8",
            "ticks": ""
           }
          },
          "scene": {
           "xaxis": {
            "backgroundcolor": "white",
            "gridcolor": "#DFE8F3",
            "gridwidth": 2,
            "linecolor": "#EBF0F8",
            "showbackground": true,
            "ticks": "",
            "zerolinecolor": "#EBF0F8"
           },
           "yaxis": {
            "backgroundcolor": "white",
            "gridcolor": "#DFE8F3",
            "gridwidth": 2,
            "linecolor": "#EBF0F8",
            "showbackground": true,
            "ticks": "",
            "zerolinecolor": "#EBF0F8"
           },
           "zaxis": {
            "backgroundcolor": "white",
            "gridcolor": "#DFE8F3",
            "gridwidth": 2,
            "linecolor": "#EBF0F8",
            "showbackground": true,
            "ticks": "",
            "zerolinecolor": "#EBF0F8"
           }
          },
          "shapedefaults": {
           "line": {
            "color": "#2a3f5f"
           }
          },
          "ternary": {
           "aaxis": {
            "gridcolor": "#DFE8F3",
            "linecolor": "#A2B1C6",
            "ticks": ""
           },
           "baxis": {
            "gridcolor": "#DFE8F3",
            "linecolor": "#A2B1C6",
            "ticks": ""
           },
           "bgcolor": "white",
           "caxis": {
            "gridcolor": "#DFE8F3",
            "linecolor": "#A2B1C6",
            "ticks": ""
           }
          },
          "title": {
           "x": 0.05
          },
          "xaxis": {
           "automargin": true,
           "gridcolor": "#EBF0F8",
           "linecolor": "#EBF0F8",
           "ticks": "",
           "title": {
            "standoff": 15
           },
           "zerolinecolor": "#EBF0F8",
           "zerolinewidth": 2
          },
          "yaxis": {
           "automargin": true,
           "gridcolor": "#EBF0F8",
           "linecolor": "#EBF0F8",
           "ticks": "",
           "title": {
            "standoff": 15
           },
           "zerolinecolor": "#EBF0F8",
           "zerolinewidth": 2
          }
         }
        },
        "title": {
         "text": "📈 Previsão de Vendas - Loja 1"
        },
        "width": 1000,
        "xaxis": {
         "title": {
          "text": "Data"
         }
        },
        "yaxis": {
         "title": {
          "text": "Vendas"
         }
        }
       }
      }
     },
     "metadata": {},
     "output_type": "display_data"
    }
   ],
   "source": [
    "# Cria a figura interativa\n",
    "fig = go.Figure()\n",
    "\n",
    "# Linha das vendas reais\n",
    "fig.add_trace(go.Scatter(\n",
    "    x=merged['Date'],\n",
    "    y=merged['Sales'],\n",
    "    mode='lines',\n",
    "    name='Real',\n",
    "    line=dict(color='blue')\n",
    "))\n",
    "\n",
    "# Linha das vendas previstas para o período conhecido (mesmo período de merged)\n",
    "fig.add_trace(go.Scatter(\n",
    "    x=merged['Date'],\n",
    "    y=merged['yhat'],\n",
    "    mode='lines',\n",
    "    name='Previsto',\n",
    "    line=dict(color='orange')\n",
    "))\n",
    "\n",
    "# Linha das previsões futuras (forecast_predict), adicionando só as datas futuras\n",
    "# Filtra apenas as datas futuras (após último dado real)\n",
    "future_dates = forecast_predict[forecast_predict['ds'] > merged['Date'].max()]\n",
    "\n",
    "fig.add_trace(go.Scatter(\n",
    "    x=future_dates['ds'],\n",
    "    y=future_dates['yhat'],\n",
    "    mode='lines',\n",
    "    name='Previsão Futura',\n",
    "    line=dict(color='green'),\n",
    "    marker=dict(size=6)\n",
    "))\n",
    "\n",
    "# Layout do gráfico\n",
    "fig.update_layout(\n",
    "    title='📈 Previsão de Vendas - Loja 1',\n",
    "    xaxis_title='Data',\n",
    "    yaxis_title='Vendas',\n",
    "    legend=dict(x=0.01, y=0.99),\n",
    "    template='plotly_white',\n",
    "    width=1000,\n",
    "    height=400\n",
    ")\n",
    "\n",
    "# Salva como imagem\n",
    "fig.write_image(\"../reports/figures/forecast_real_vs_predicted.png\")\n",
    "\n",
    "# Exibe no notebook\n",
    "fig.show()"
   ]
  }
 ],
 "metadata": {
  "kernelspec": {
   "display_name": "cases_data_science",
   "language": "python",
   "name": "python3"
  },
  "language_info": {
   "codemirror_mode": {
    "name": "ipython",
    "version": 3
   },
   "file_extension": ".py",
   "mimetype": "text/x-python",
   "name": "python",
   "nbconvert_exporter": "python",
   "pygments_lexer": "ipython3",
   "version": "3.10.18"
  }
 },
 "nbformat": 4,
 "nbformat_minor": 5
}
